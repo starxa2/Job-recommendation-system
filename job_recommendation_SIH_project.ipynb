{
 "cells": [
  {
   "cell_type": "code",
   "execution_count": 1,
   "id": "b8414bc9",
   "metadata": {},
   "outputs": [],
   "source": [
    "import pandas as pd\n",
    "import numpy as np\n",
    "import matplotlib.pyplot as plt\n",
    "import tensorflow as tf\n",
    "from tensorflow import keras\n",
    "from tensorflow.keras.preprocessing.text import Tokenizer\n",
    "import pickle"
   ]
  },
  {
   "cell_type": "code",
   "execution_count": 20,
   "id": "0d478d39",
   "metadata": {},
   "outputs": [],
   "source": [
    "# jobs = pd.read_csv('jobs.tsv', sep='\\t', error_bad_lines=False)\n",
    "# jobs.head()"
   ]
  },
  {
   "cell_type": "code",
   "execution_count": 21,
   "id": "769c0fc7",
   "metadata": {},
   "outputs": [],
   "source": [
    "# jobs.iloc[0]['Description']"
   ]
  },
  {
   "cell_type": "code",
   "execution_count": 22,
   "id": "b944416e",
   "metadata": {},
   "outputs": [],
   "source": [
    "# jobs = jobs.dropna()\n",
    "# len(jobs)"
   ]
  },
  {
   "cell_type": "markdown",
   "id": "3684953f",
   "metadata": {},
   "source": [
    "### Removing html elements from Description and Requirements"
   ]
  },
  {
   "cell_type": "code",
   "execution_count": 23,
   "id": "23caa428",
   "metadata": {
    "scrolled": true
   },
   "outputs": [],
   "source": [
    "# removePattern = r'(<(.*?)>)|(&\\w+)'\n",
    "# addSpacePattern = r'([;:])|(\\\\r)|(\\\\n)'\n",
    "# removeExtraSpaces = r'(\\s\\s+?)(?=\\S)'\n",
    "# jobs['DescCleaned'] = jobs['Description'].str.lower()\n",
    "# jobs['DescCleaned'] = jobs['DescCleaned'].str.replace(removePattern, \"\")\n",
    "# jobs['DescCleaned'] = jobs['DescCleaned'].str.replace(addSpacePattern, \" \")\n",
    "# jobs['DescCleaned'] = jobs['DescCleaned'].str.replace(removeExtraSpaces, \" \")\n",
    "# # Same for Requirements\n",
    "# jobs['ReqCleaned'] = jobs['Requirements'].str.lower()\n",
    "# jobs['ReqCleaned'] = jobs['ReqCleaned'].str.replace(removePattern, \"\")\n",
    "# jobs['ReqCleaned'] = jobs['ReqCleaned'].str.replace(addSpacePattern, \" \")\n",
    "# jobs['ReqCleaned'] = jobs['ReqCleaned'].str.replace(removeExtraSpaces, \" \")\n",
    "# jobs.head()"
   ]
  },
  {
   "cell_type": "code",
   "execution_count": 24,
   "id": "83f21fb4",
   "metadata": {},
   "outputs": [],
   "source": [
    "# ## Formatting jobs dataframe keeping only good information\n",
    "# new_jobs = pd.DataFrame(jobs['Title'])\n",
    "# new_jobs['Requirement'] = jobs['ReqCleaned']\n",
    "# new_jobs['Description'] = jobs['DescCleaned']\n",
    "# new_jobs"
   ]
  },
  {
   "cell_type": "code",
   "execution_count": 17,
   "id": "a32f69e6",
   "metadata": {},
   "outputs": [],
   "source": [
    "# new_jobs.to_pickle('jobs_good.pkl')"
   ]
  },
  {
   "cell_type": "markdown",
   "id": "1ab6b7d5",
   "metadata": {},
   "source": [
    "## Loading Cleaned Data"
   ]
  },
  {
   "cell_type": "code",
   "execution_count": 18,
   "id": "1b8ab4cb",
   "metadata": {},
   "outputs": [],
   "source": [
    "jobs = pd.read_pickle('jobs_good.pkl')"
   ]
  },
  {
   "cell_type": "code",
   "execution_count": 19,
   "id": "0a9e39e4",
   "metadata": {},
   "outputs": [
    {
     "data": {
      "text/html": [
       "<div>\n",
       "<style scoped>\n",
       "    .dataframe tbody tr th:only-of-type {\n",
       "        vertical-align: middle;\n",
       "    }\n",
       "\n",
       "    .dataframe tbody tr th {\n",
       "        vertical-align: top;\n",
       "    }\n",
       "\n",
       "    .dataframe thead th {\n",
       "        text-align: right;\n",
       "    }\n",
       "</style>\n",
       "<table border=\"1\" class=\"dataframe\">\n",
       "  <thead>\n",
       "    <tr style=\"text-align: right;\">\n",
       "      <th></th>\n",
       "      <th>Title</th>\n",
       "      <th>Requirement</th>\n",
       "      <th>Description</th>\n",
       "    </tr>\n",
       "  </thead>\n",
       "  <tbody>\n",
       "    <tr>\n",
       "      <th>0</th>\n",
       "      <td>Security Engineer/Technical Lead</td>\n",
       "      <td>skill set network security tools webdefend web...</td>\n",
       "      <td>security clearance required top secret job num...</td>\n",
       "    </tr>\n",
       "    <tr>\n",
       "      <th>1</th>\n",
       "      <td>SAP Business Analyst / WM</td>\n",
       "      <td>what you need four year college degree minimum...</td>\n",
       "      <td>no corp. to corp resumes are being considered ...</td>\n",
       "    </tr>\n",
       "    <tr>\n",
       "      <th>2</th>\n",
       "      <td>P/T HUMAN RESOURCES ASSISTANT</td>\n",
       "      <td>please refer to the job description to view th...</td>\n",
       "      <td>p/t human resources assistant —— 1-2 years ex...</td>\n",
       "    </tr>\n",
       "    <tr>\n",
       "      <th>5</th>\n",
       "      <td>SALON/SPA COORDINATOR</td>\n",
       "      <td>please refer to the job description to view th...</td>\n",
       "      <td>— salon/spa coordinator — daytona college in ...</td>\n",
       "    </tr>\n",
       "    <tr>\n",
       "      <th>6</th>\n",
       "      <td>SUPERINTENDENT</td>\n",
       "      <td>please refer to the job description to view th...</td>\n",
       "      <td>superintendent —— central florida general con...</td>\n",
       "    </tr>\n",
       "  </tbody>\n",
       "</table>\n",
       "</div>"
      ],
      "text/plain": [
       "                              Title  \\\n",
       "0  Security Engineer/Technical Lead   \n",
       "1         SAP Business Analyst / WM   \n",
       "2     P/T HUMAN RESOURCES ASSISTANT   \n",
       "5             SALON/SPA COORDINATOR   \n",
       "6                    SUPERINTENDENT   \n",
       "\n",
       "                                         Requirement  \\\n",
       "0  skill set network security tools webdefend web...   \n",
       "1  what you need four year college degree minimum...   \n",
       "2  please refer to the job description to view th...   \n",
       "5  please refer to the job description to view th...   \n",
       "6  please refer to the job description to view th...   \n",
       "\n",
       "                                         Description  \n",
       "0  security clearance required top secret job num...  \n",
       "1  no corp. to corp resumes are being considered ...  \n",
       "2   p/t human resources assistant —— 1-2 years ex...  \n",
       "5   — salon/spa coordinator — daytona college in ...  \n",
       "6   superintendent —— central florida general con...  "
      ]
     },
     "execution_count": 19,
     "metadata": {},
     "output_type": "execute_result"
    }
   ],
   "source": [
    "jobs.head()"
   ]
  },
  {
   "cell_type": "code",
   "execution_count": 6,
   "id": "8c75e96f",
   "metadata": {},
   "outputs": [],
   "source": [
    "# import re\n",
    "# CLEANR = re.compile('<.*?>') \n",
    "\n",
    "# def cleanhtml(raw_html):\n",
    "#     cleantext = re.sub(CLEANR, '', raw_html)\n",
    "#     return cleantext"
   ]
  },
  {
   "cell_type": "code",
   "execution_count": 7,
   "id": "64919f58",
   "metadata": {},
   "outputs": [],
   "source": [
    "# description = list(jobs['Description'])\n",
    "# req = list(jobs['Requirements'])\n",
    "\n",
    "# for i in range(len(jobs)):\n",
    "#     to_remove = ['\\\\r', '&nbsp', ';']\n",
    "#     description[i] = cleanhtml(description[i])\n",
    "#     req[i] = cleanhtml(req[i])\n",
    "#     for j in to_remove:\n",
    "#         description[i] = description[i].replace(j, '')\n",
    "#         req[i] = req[i].replace(j, '')\n",
    "    \n",
    "# jobs['Description'] = description\n",
    "# jobs['Requirements'] = req\n",
    "# jobs.head()"
   ]
  },
  {
   "cell_type": "code",
   "execution_count": 25,
   "id": "cf472ba8",
   "metadata": {},
   "outputs": [
    {
     "data": {
      "text/plain": [
       "'security clearance required top secret job number tmr-447 location of job washington, dc tmr, inc. is an equal employment opportunity company for more job opportunities with tmr, visit our website www.tmrhq.com send resumes to hr@tmrhq2.com job summary leads the customer s overall cyber security strategy, formalizes service offerings consisted with itil best practices, and provides design and architecture support. provide security design / architecture support for ojp s it security division (itsd) leads the secops team in the day to day ojp security operations support provides direction when needed in a security incident or technical issues works in concert with network operations on design /integration for best security posture supports business development functions including capture management, proposal development and responses, and other initiatives to include conferences, trade shows, webinars, developing white papers and the like. identifies resources and mentors in-house talent to ensure tmr remains responsive to growing initiatives and contracts with qualified personnel.        '"
      ]
     },
     "execution_count": 25,
     "metadata": {},
     "output_type": "execute_result"
    }
   ],
   "source": [
    "jobs.iloc[0]['Description']"
   ]
  },
  {
   "cell_type": "code",
   "execution_count": 9,
   "id": "05838390",
   "metadata": {},
   "outputs": [
    {
     "data": {
      "text/plain": [
       "(294106, 658835)"
      ]
     },
     "execution_count": 9,
     "metadata": {},
     "output_type": "execute_result"
    }
   ],
   "source": [
    "tmp_s = set(jobs['Title'])\n",
    "len(tmp_s), len(jobs)"
   ]
  },
  {
   "cell_type": "code",
   "execution_count": 9,
   "id": "e629f57f",
   "metadata": {},
   "outputs": [
    {
     "data": {
      "text/html": [
       "<div>\n",
       "<style scoped>\n",
       "    .dataframe tbody tr th:only-of-type {\n",
       "        vertical-align: middle;\n",
       "    }\n",
       "\n",
       "    .dataframe tbody tr th {\n",
       "        vertical-align: top;\n",
       "    }\n",
       "\n",
       "    .dataframe thead th {\n",
       "        text-align: right;\n",
       "    }\n",
       "</style>\n",
       "<table border=\"1\" class=\"dataframe\">\n",
       "  <thead>\n",
       "    <tr style=\"text-align: right;\">\n",
       "      <th></th>\n",
       "      <th>UserID</th>\n",
       "      <th>WindowID</th>\n",
       "      <th>Split</th>\n",
       "      <th>City</th>\n",
       "      <th>State</th>\n",
       "      <th>Country</th>\n",
       "      <th>ZipCode</th>\n",
       "      <th>DegreeType</th>\n",
       "      <th>Major</th>\n",
       "      <th>GraduationDate</th>\n",
       "      <th>WorkHistoryCount</th>\n",
       "      <th>TotalYearsExperience</th>\n",
       "      <th>CurrentlyEmployed</th>\n",
       "      <th>ManagedOthers</th>\n",
       "      <th>ManagedHowMany</th>\n",
       "    </tr>\n",
       "  </thead>\n",
       "  <tbody>\n",
       "    <tr>\n",
       "      <th>0</th>\n",
       "      <td>47</td>\n",
       "      <td>1</td>\n",
       "      <td>Train</td>\n",
       "      <td>Paramount</td>\n",
       "      <td>CA</td>\n",
       "      <td>US</td>\n",
       "      <td>90723</td>\n",
       "      <td>High School</td>\n",
       "      <td>NaN</td>\n",
       "      <td>1999-06-01 00:00:00</td>\n",
       "      <td>3</td>\n",
       "      <td>10.0</td>\n",
       "      <td>Yes</td>\n",
       "      <td>No</td>\n",
       "      <td>0</td>\n",
       "    </tr>\n",
       "    <tr>\n",
       "      <th>1</th>\n",
       "      <td>72</td>\n",
       "      <td>1</td>\n",
       "      <td>Train</td>\n",
       "      <td>La Mesa</td>\n",
       "      <td>CA</td>\n",
       "      <td>US</td>\n",
       "      <td>91941</td>\n",
       "      <td>Master's</td>\n",
       "      <td>Anthropology</td>\n",
       "      <td>2011-01-01 00:00:00</td>\n",
       "      <td>10</td>\n",
       "      <td>8.0</td>\n",
       "      <td>Yes</td>\n",
       "      <td>No</td>\n",
       "      <td>0</td>\n",
       "    </tr>\n",
       "    <tr>\n",
       "      <th>2</th>\n",
       "      <td>80</td>\n",
       "      <td>1</td>\n",
       "      <td>Train</td>\n",
       "      <td>Williamstown</td>\n",
       "      <td>NJ</td>\n",
       "      <td>US</td>\n",
       "      <td>08094</td>\n",
       "      <td>High School</td>\n",
       "      <td>Not Applicable</td>\n",
       "      <td>1985-06-01 00:00:00</td>\n",
       "      <td>5</td>\n",
       "      <td>11.0</td>\n",
       "      <td>Yes</td>\n",
       "      <td>Yes</td>\n",
       "      <td>5</td>\n",
       "    </tr>\n",
       "    <tr>\n",
       "      <th>3</th>\n",
       "      <td>98</td>\n",
       "      <td>1</td>\n",
       "      <td>Train</td>\n",
       "      <td>Astoria</td>\n",
       "      <td>NY</td>\n",
       "      <td>US</td>\n",
       "      <td>11105</td>\n",
       "      <td>Master's</td>\n",
       "      <td>Journalism</td>\n",
       "      <td>2007-05-01 00:00:00</td>\n",
       "      <td>3</td>\n",
       "      <td>3.0</td>\n",
       "      <td>Yes</td>\n",
       "      <td>No</td>\n",
       "      <td>0</td>\n",
       "    </tr>\n",
       "    <tr>\n",
       "      <th>4</th>\n",
       "      <td>123</td>\n",
       "      <td>1</td>\n",
       "      <td>Train</td>\n",
       "      <td>Baton Rouge</td>\n",
       "      <td>LA</td>\n",
       "      <td>US</td>\n",
       "      <td>70808</td>\n",
       "      <td>Bachelor's</td>\n",
       "      <td>Agricultural Business</td>\n",
       "      <td>2011-05-01 00:00:00</td>\n",
       "      <td>1</td>\n",
       "      <td>9.0</td>\n",
       "      <td>Yes</td>\n",
       "      <td>No</td>\n",
       "      <td>0</td>\n",
       "    </tr>\n",
       "  </tbody>\n",
       "</table>\n",
       "</div>"
      ],
      "text/plain": [
       "   UserID  WindowID  Split          City State Country ZipCode   DegreeType  \\\n",
       "0      47         1  Train     Paramount    CA      US   90723  High School   \n",
       "1      72         1  Train       La Mesa    CA      US   91941     Master's   \n",
       "2      80         1  Train  Williamstown    NJ      US   08094  High School   \n",
       "3      98         1  Train       Astoria    NY      US   11105     Master's   \n",
       "4     123         1  Train   Baton Rouge    LA      US   70808   Bachelor's   \n",
       "\n",
       "                   Major       GraduationDate  WorkHistoryCount  \\\n",
       "0                    NaN  1999-06-01 00:00:00                 3   \n",
       "1           Anthropology  2011-01-01 00:00:00                10   \n",
       "2         Not Applicable  1985-06-01 00:00:00                 5   \n",
       "3             Journalism  2007-05-01 00:00:00                 3   \n",
       "4  Agricultural Business  2011-05-01 00:00:00                 1   \n",
       "\n",
       "   TotalYearsExperience CurrentlyEmployed ManagedOthers  ManagedHowMany  \n",
       "0                  10.0               Yes            No               0  \n",
       "1                   8.0               Yes            No               0  \n",
       "2                  11.0               Yes           Yes               5  \n",
       "3                   3.0               Yes            No               0  \n",
       "4                   9.0               Yes            No               0  "
      ]
     },
     "execution_count": 9,
     "metadata": {},
     "output_type": "execute_result"
    }
   ],
   "source": [
    "users = pd.read_csv('users.tsv', sep='\\t')\n",
    "users.head()"
   ]
  },
  {
   "cell_type": "code",
   "execution_count": 10,
   "id": "77549263",
   "metadata": {},
   "outputs": [
    {
     "data": {
      "text/html": [
       "<div>\n",
       "<style scoped>\n",
       "    .dataframe tbody tr th:only-of-type {\n",
       "        vertical-align: middle;\n",
       "    }\n",
       "\n",
       "    .dataframe tbody tr th {\n",
       "        vertical-align: top;\n",
       "    }\n",
       "\n",
       "    .dataframe thead th {\n",
       "        text-align: right;\n",
       "    }\n",
       "</style>\n",
       "<table border=\"1\" class=\"dataframe\">\n",
       "  <thead>\n",
       "    <tr style=\"text-align: right;\">\n",
       "      <th></th>\n",
       "      <th>UserID</th>\n",
       "      <th>WindowID</th>\n",
       "      <th>Split</th>\n",
       "      <th>Sequence</th>\n",
       "      <th>JobTitle</th>\n",
       "    </tr>\n",
       "  </thead>\n",
       "  <tbody>\n",
       "    <tr>\n",
       "      <th>0</th>\n",
       "      <td>47</td>\n",
       "      <td>1</td>\n",
       "      <td>Train</td>\n",
       "      <td>1</td>\n",
       "      <td>National Space Communication Programs-Special ...</td>\n",
       "    </tr>\n",
       "    <tr>\n",
       "      <th>1</th>\n",
       "      <td>47</td>\n",
       "      <td>1</td>\n",
       "      <td>Train</td>\n",
       "      <td>2</td>\n",
       "      <td>Detention Officer</td>\n",
       "    </tr>\n",
       "    <tr>\n",
       "      <th>2</th>\n",
       "      <td>47</td>\n",
       "      <td>1</td>\n",
       "      <td>Train</td>\n",
       "      <td>3</td>\n",
       "      <td>Passenger Screener, TSA</td>\n",
       "    </tr>\n",
       "    <tr>\n",
       "      <th>3</th>\n",
       "      <td>72</td>\n",
       "      <td>1</td>\n",
       "      <td>Train</td>\n",
       "      <td>1</td>\n",
       "      <td>Lecturer, Department of Anthropology</td>\n",
       "    </tr>\n",
       "    <tr>\n",
       "      <th>4</th>\n",
       "      <td>72</td>\n",
       "      <td>1</td>\n",
       "      <td>Train</td>\n",
       "      <td>2</td>\n",
       "      <td>Student Assistant</td>\n",
       "    </tr>\n",
       "  </tbody>\n",
       "</table>\n",
       "</div>"
      ],
      "text/plain": [
       "   UserID  WindowID  Split  Sequence  \\\n",
       "0      47         1  Train         1   \n",
       "1      47         1  Train         2   \n",
       "2      47         1  Train         3   \n",
       "3      72         1  Train         1   \n",
       "4      72         1  Train         2   \n",
       "\n",
       "                                            JobTitle  \n",
       "0  National Space Communication Programs-Special ...  \n",
       "1                                  Detention Officer  \n",
       "2                            Passenger Screener, TSA  \n",
       "3               Lecturer, Department of Anthropology  \n",
       "4                                  Student Assistant  "
      ]
     },
     "execution_count": 10,
     "metadata": {},
     "output_type": "execute_result"
    }
   ],
   "source": [
    "user_history = pd.read_csv('user_history.tsv', sep='\\t', error_bad_lines=False)\n",
    "user_history.head()"
   ]
  },
  {
   "cell_type": "code",
   "execution_count": 7,
   "id": "1ae8e772",
   "metadata": {},
   "outputs": [
    {
     "data": {
      "text/plain": [
       "661257     120\n",
       "1089978     42\n",
       "359211      38\n",
       "149326      27\n",
       "850155      23\n",
       "          ... \n",
       "329077       1\n",
       "462438       1\n",
       "78076        1\n",
       "839177       1\n",
       "81208        1\n",
       "Name: UserID, Length: 375531, dtype: int64"
      ]
     },
     "execution_count": 7,
     "metadata": {},
     "output_type": "execute_result"
    }
   ],
   "source": [
    "user_history['UserID'].value_counts()"
   ]
  },
  {
   "cell_type": "code",
   "execution_count": 26,
   "id": "d63902fa",
   "metadata": {},
   "outputs": [],
   "source": [
    "size = 10000"
   ]
  },
  {
   "cell_type": "code",
   "execution_count": 28,
   "id": "e8f7876b",
   "metadata": {},
   "outputs": [],
   "source": [
    "from sklearn.model_selection import train_test_split\n",
    "\n",
    "description = np.array(jobs['Description'])[:size]\n",
    "requirements = np.array(jobs['Requirement'])[:size]\n",
    "title = np.array(jobs['Title'])[:size]"
   ]
  },
  {
   "cell_type": "markdown",
   "id": "813053d7",
   "metadata": {},
   "source": [
    "# Training model using description only"
   ]
  },
  {
   "cell_type": "code",
   "execution_count": 30,
   "id": "b68514e4",
   "metadata": {},
   "outputs": [],
   "source": [
    "vocab_size = 10000\n",
    "embedding_dim = 16\n",
    "max_length = 100\n",
    "trunc_type='post'\n",
    "padding_type='post'\n",
    "oov_tok = \"<OOV>\"\n",
    "training_size = 20000"
   ]
  },
  {
   "cell_type": "code",
   "execution_count": 31,
   "id": "9be28526",
   "metadata": {},
   "outputs": [
    {
     "data": {
      "text/plain": [
       "(array([6189, 5885, 4643, 5877, 5963]), 10000)"
      ]
     },
     "execution_count": 31,
     "metadata": {},
     "output_type": "execute_result"
    }
   ],
   "source": [
    "from sklearn.preprocessing import LabelEncoder\n",
    "\n",
    "target = title\n",
    "label_encoder = LabelEncoder()\n",
    "title_encoded = np.array(label_encoder.fit_transform(target))\n",
    "title_encoded[:5], len(title_encoded)"
   ]
  },
  {
   "cell_type": "code",
   "execution_count": 32,
   "id": "03deeda1",
   "metadata": {},
   "outputs": [
    {
     "data": {
      "text/plain": [
       "7274"
      ]
     },
     "execution_count": 32,
     "metadata": {},
     "output_type": "execute_result"
    }
   ],
   "source": [
    "len(label_encoder.classes_)"
   ]
  },
  {
   "cell_type": "code",
   "execution_count": 33,
   "id": "b6480cbc",
   "metadata": {},
   "outputs": [
    {
     "data": {
      "text/plain": [
       "(7273, 0)"
      ]
     },
     "execution_count": 33,
     "metadata": {},
     "output_type": "execute_result"
    }
   ],
   "source": [
    "max(title_encoded), min(title_encoded)"
   ]
  },
  {
   "cell_type": "code",
   "execution_count": 34,
   "id": "c523352b",
   "metadata": {},
   "outputs": [],
   "source": [
    "training_sentences, testing_sentences, training_labels, testing_labels = train_test_split(description, title_encoded, test_size=0.2)"
   ]
  },
  {
   "cell_type": "code",
   "execution_count": 35,
   "id": "5425af18",
   "metadata": {},
   "outputs": [],
   "source": [
    "from tensorflow.keras.preprocessing.sequence import pad_sequences\n",
    "tokenizer = Tokenizer(num_words=vocab_size, oov_token=oov_tok)\n",
    "tokenizer.fit_on_texts(training_sentences)\n",
    "\n",
    "word_index = tokenizer.word_index\n",
    "\n",
    "training_sequences = tokenizer.texts_to_sequences(training_sentences)\n",
    "training_padded = pad_sequences(training_sequences, maxlen=max_length, padding=padding_type, truncating=trunc_type)\n",
    "\n",
    "testing_sequences = tokenizer.texts_to_sequences(testing_sentences)\n",
    "testing_padded = pad_sequences(testing_sequences, maxlen=max_length, padding=padding_type, truncating=trunc_type)"
   ]
  },
  {
   "cell_type": "code",
   "execution_count": 36,
   "id": "cb18da53",
   "metadata": {},
   "outputs": [],
   "source": [
    "# Need this block to get it to work with TensorFlow 2.x\n",
    "import numpy as np\n",
    "training_padded = np.array(training_padded)\n",
    "training_labels = np.array(training_labels)\n",
    "testing_padded = np.array(testing_padded)\n",
    "testing_labels = np.array(testing_labels)"
   ]
  },
  {
   "cell_type": "code",
   "execution_count": 52,
   "id": "029be34a",
   "metadata": {},
   "outputs": [],
   "source": [
    "model = tf.keras.Sequential([\n",
    "    tf.keras.layers.Embedding(vocab_size, embedding_dim, input_length=max_length),\n",
    "    tf.keras.layers.GlobalAveragePooling1D(),\n",
    "    tf.keras.layers.Dense(128, activation='relu'),\n",
    "    tf.keras.layers.Dense(128, activation='relu'),\n",
    "    tf.keras.layers.Dense(7274, activation='softmax')\n",
    "])\n",
    "model.compile(loss='sparse_categorical_crossentropy',optimizer='adam',metrics=['accuracy'])"
   ]
  },
  {
   "cell_type": "code",
   "execution_count": 53,
   "id": "17e766a4",
   "metadata": {},
   "outputs": [
    {
     "name": "stdout",
     "output_type": "stream",
     "text": [
      "Model: \"sequential_3\"\n",
      "_________________________________________________________________\n",
      "Layer (type)                 Output Shape              Param #   \n",
      "=================================================================\n",
      "embedding_3 (Embedding)      (None, 100, 16)           160000    \n",
      "_________________________________________________________________\n",
      "global_average_pooling1d_3 ( (None, 16)                0         \n",
      "_________________________________________________________________\n",
      "dense_7 (Dense)              (None, 128)               2176      \n",
      "_________________________________________________________________\n",
      "dense_8 (Dense)              (None, 128)               16512     \n",
      "_________________________________________________________________\n",
      "dense_9 (Dense)              (None, 7274)              938346    \n",
      "=================================================================\n",
      "Total params: 1,117,034\n",
      "Trainable params: 1,117,034\n",
      "Non-trainable params: 0\n",
      "_________________________________________________________________\n"
     ]
    }
   ],
   "source": [
    "model.summary()"
   ]
  },
  {
   "cell_type": "code",
   "execution_count": 54,
   "id": "3fac17d6",
   "metadata": {},
   "outputs": [
    {
     "name": "stdout",
     "output_type": "stream",
     "text": [
      "Train on 8000 samples, validate on 2000 samples\n",
      "Epoch 1/10\n",
      "8000/8000 - 8s - loss: 8.5768 - accuracy: 0.0205 - val_loss: 8.4111 - val_accuracy: 0.0215\n",
      "Epoch 2/10\n",
      "8000/8000 - 7s - loss: 8.1483 - accuracy: 0.0216 - val_loss: 8.6085 - val_accuracy: 0.0215\n",
      "Epoch 3/10\n",
      "8000/8000 - 7s - loss: 7.9290 - accuracy: 0.0279 - val_loss: 9.2016 - val_accuracy: 0.0420\n",
      "Epoch 4/10\n",
      "8000/8000 - 7s - loss: 7.7330 - accuracy: 0.0432 - val_loss: 9.7666 - val_accuracy: 0.0415\n",
      "Epoch 5/10\n",
      "8000/8000 - 7s - loss: 7.5279 - accuracy: 0.0504 - val_loss: 10.3882 - val_accuracy: 0.0535\n",
      "Epoch 6/10\n",
      "8000/8000 - 7s - loss: 7.3679 - accuracy: 0.0550 - val_loss: 10.9932 - val_accuracy: 0.0535\n",
      "Epoch 7/10\n",
      "8000/8000 - 7s - loss: 7.2426 - accuracy: 0.0575 - val_loss: 11.4347 - val_accuracy: 0.0535\n",
      "Epoch 8/10\n",
      "8000/8000 - 8s - loss: 7.1319 - accuracy: 0.0658 - val_loss: 12.0478 - val_accuracy: 0.0610\n",
      "Epoch 9/10\n",
      "8000/8000 - 7s - loss: 7.0232 - accuracy: 0.0669 - val_loss: 12.2627 - val_accuracy: 0.0635\n",
      "Epoch 10/10\n",
      "8000/8000 - 7s - loss: 6.9187 - accuracy: 0.0719 - val_loss: 12.7997 - val_accuracy: 0.0695\n"
     ]
    }
   ],
   "source": [
    "num_epochs = 10\n",
    "history = model.fit(training_padded, training_labels, epochs=num_epochs, validation_data=(testing_padded, testing_labels), verbose=2)"
   ]
  },
  {
   "cell_type": "code",
   "execution_count": 55,
   "id": "5d996ea3",
   "metadata": {},
   "outputs": [
    {
     "data": {
      "image/png": "[encoded data removed]",
      "text/plain": [
       "<Figure size 432x288 with 1 Axes>"
      ]
     },
     "metadata": {
      "needs_background": "light"
     },
     "output_type": "display_data"
    },
    {
     "data": {
      "image/png": "[encoded data removed]",
      "text/plain": [
       "<Figure size 432x288 with 1 Axes>"
      ]
     },
     "metadata": {
      "needs_background": "light"
     },
     "output_type": "display_data"
    }
   ],
   "source": [
    "import matplotlib.pyplot as plt\n",
    "\n",
    "\n",
    "def plot_graphs(history, string):\n",
    "    plt.plot(history.history[string])\n",
    "    plt.plot(history.history['val_'+string])\n",
    "    plt.xlabel(\"Epochs\")\n",
    "    plt.ylabel(string)\n",
    "    plt.legend([string, 'val_'+string])\n",
    "    plt.show()\n",
    "\n",
    "plot_graphs(history, \"accuracy\")\n",
    "plot_graphs(history, \"loss\")"
   ]
  },
  {
   "cell_type": "markdown",
   "id": "67c5a0b7",
   "metadata": {},
   "source": [
    "## Increasing the max length to 1000 and increasing the size of our neural network and epochs"
   ]
  },
  {
   "cell_type": "code",
   "execution_count": 57,
   "id": "8cd2ebc6",
   "metadata": {
    "scrolled": true
   },
   "outputs": [
    {
     "name": "stdout",
     "output_type": "stream",
     "text": [
      "Train on 8000 samples, validate on 2000 samples\n",
      "Epoch 1/20\n",
      "8000/8000 - 19s - loss: 8.6997 - accuracy: 0.0206 - val_loss: 8.4598 - val_accuracy: 0.0185\n",
      "Epoch 2/20\n",
      "8000/8000 - 18s - loss: 8.2696 - accuracy: 0.0213 - val_loss: 8.6249 - val_accuracy: 0.0185\n",
      "Epoch 3/20\n",
      "8000/8000 - 18s - loss: 8.0836 - accuracy: 0.0213 - val_loss: 9.1863 - val_accuracy: 0.0195\n",
      "Epoch 4/20\n",
      "8000/8000 - 18s - loss: 7.8865 - accuracy: 0.0288 - val_loss: 9.7084 - val_accuracy: 0.0225\n",
      "Epoch 5/20\n",
      "8000/8000 - 18s - loss: 7.6623 - accuracy: 0.0434 - val_loss: 9.9030 - val_accuracy: 0.0440\n",
      "Epoch 6/20\n",
      "8000/8000 - 18s - loss: 7.4757 - accuracy: 0.0521 - val_loss: 10.3641 - val_accuracy: 0.0535\n",
      "Epoch 7/20\n",
      "8000/8000 - 18s - loss: 7.3295 - accuracy: 0.0589 - val_loss: 11.2312 - val_accuracy: 0.0535\n",
      "Epoch 8/20\n",
      "8000/8000 - 18s - loss: 7.2073 - accuracy: 0.0600 - val_loss: 11.3585 - val_accuracy: 0.0670\n",
      "Epoch 9/20\n",
      "8000/8000 - 18s - loss: 7.0805 - accuracy: 0.0701 - val_loss: 11.6007 - val_accuracy: 0.0650\n",
      "Epoch 10/20\n",
      "8000/8000 - 18s - loss: 6.9769 - accuracy: 0.0720 - val_loss: 11.7961 - val_accuracy: 0.0670\n",
      "Epoch 11/20\n",
      "8000/8000 - 18s - loss: 6.8911 - accuracy: 0.0720 - val_loss: 12.3157 - val_accuracy: 0.0715\n",
      "Epoch 12/20\n",
      "8000/8000 - 18s - loss: 6.8111 - accuracy: 0.0740 - val_loss: 12.2040 - val_accuracy: 0.0725\n",
      "Epoch 13/20\n",
      "8000/8000 - 18s - loss: 6.7359 - accuracy: 0.0763 - val_loss: 12.3251 - val_accuracy: 0.0655\n",
      "Epoch 14/20\n",
      "8000/8000 - 18s - loss: 6.6557 - accuracy: 0.0772 - val_loss: 13.1792 - val_accuracy: 0.0725\n",
      "Epoch 15/20\n",
      "8000/8000 - 18s - loss: 6.5838 - accuracy: 0.0796 - val_loss: 13.1225 - val_accuracy: 0.0675\n",
      "Epoch 16/20\n",
      "8000/8000 - 18s - loss: 6.4649 - accuracy: 0.0810 - val_loss: 13.1150 - val_accuracy: 0.0740\n",
      "Epoch 17/20\n",
      "8000/8000 - 18s - loss: 6.2941 - accuracy: 0.0845 - val_loss: 12.6306 - val_accuracy: 0.0805\n",
      "Epoch 18/20\n",
      "8000/8000 - 18s - loss: 6.1194 - accuracy: 0.0895 - val_loss: 12.0012 - val_accuracy: 0.0895\n",
      "Epoch 19/20\n",
      "8000/8000 - 18s - loss: 5.9931 - accuracy: 0.0897 - val_loss: 11.5056 - val_accuracy: 0.0895\n",
      "Epoch 20/20\n",
      "8000/8000 - 18s - loss: 5.8754 - accuracy: 0.0940 - val_loss: 11.3309 - val_accuracy: 0.0865\n"
     ]
    }
   ],
   "source": [
    "max_length = 1000\n",
    "\n",
    "# Preparing the data\n",
    "tokenizer = Tokenizer(num_words=vocab_size, oov_token=oov_tok)\n",
    "tokenizer.fit_on_texts(training_sentences)\n",
    "\n",
    "word_index = tokenizer.word_index\n",
    "\n",
    "training_sequences = tokenizer.texts_to_sequences(training_sentences)\n",
    "training_padded = pad_sequences(training_sequences, maxlen=max_length, padding=padding_type, truncating=trunc_type)\n",
    "\n",
    "testing_sequences = tokenizer.texts_to_sequences(testing_sentences)\n",
    "testing_padded = pad_sequences(testing_sequences, maxlen=max_length, padding=padding_type, truncating=trunc_type)\n",
    "\n",
    "training_padded = np.array(training_padded)\n",
    "training_labels = np.array(training_labels)\n",
    "testing_padded = np.array(testing_padded)\n",
    "testing_labels = np.array(testing_labels)\n",
    "\n",
    "# Creating the model\n",
    "model = tf.keras.Sequential([\n",
    "    tf.keras.layers.Embedding(vocab_size, embedding_dim, input_length=max_length),\n",
    "    tf.keras.layers.GlobalAveragePooling1D(),\n",
    "    tf.keras.layers.Dense(512, activation='relu'),\n",
    "    tf.keras.layers.Dense(512, activation='relu'),\n",
    "    tf.keras.layers.Dense(512, activation='relu'),\n",
    "    tf.keras.layers.Dense(7274, activation='sigmoid')\n",
    "])\n",
    "model.compile(loss='sparse_categorical_crossentropy',optimizer='adam',metrics=['accuracy'])\n",
    "num_epochs = 20\n",
    "history = model.fit(training_padded, training_labels, epochs=num_epochs, validation_data=(testing_padded, testing_labels), verbose=2)"
   ]
  },
  {
   "cell_type": "code",
   "execution_count": 58,
   "id": "7fa9e127",
   "metadata": {},
   "outputs": [
    {
     "data": {
      "image/png": "[encoded data removed]",
      "text/plain": [
       "<Figure size 432x288 with 1 Axes>"
      ]
     },
     "metadata": {
      "needs_background": "light"
     },
     "output_type": "display_data"
    },
    {
     "data": {
      "image/png": "[encoded data removed]",
      "text/plain": [
       "<Figure size 432x288 with 1 Axes>"
      ]
     },
     "metadata": {
      "needs_background": "light"
     },
     "output_type": "display_data"
    }
   ],
   "source": [
    "plot_graphs(history, \"accuracy\")\n",
    "plot_graphs(history, \"loss\")"
   ]
  },
  {
   "cell_type": "code",
   "execution_count": 77,
   "id": "f30a9bb9",
   "metadata": {},
   "outputs": [
    {
     "data": {
      "text/plain": [
       "'this administrative assistant position is responsible for performing a variety of clerical and administrative support functions in the areas of communications, data entry and retrieval, typing, filing, copying, and coordination of related administrative activities. job requirements attention to detail ability to work in a fast paced environment invoicing proficient in word, excel and outlook other administrative responsibilities as needed. qualifications high school diploma administrative assistant experience 1-2 years work experience working knowledge of all basic office machines (fax, copier, 10key, etc.) strong verbal and written communication skills strong work ethic.'"
      ]
     },
     "execution_count": 77,
     "metadata": {},
     "output_type": "execute_result"
    }
   ],
   "source": [
    "description[8]"
   ]
  },
  {
   "cell_type": "code",
   "execution_count": 78,
   "id": "18bf589a",
   "metadata": {
    "scrolled": true
   },
   "outputs": [
    {
     "data": {
      "text/plain": [
       "'Administrative Assistant'"
      ]
     },
     "execution_count": 78,
     "metadata": {},
     "output_type": "execute_result"
    }
   ],
   "source": [
    "tmp_description = [description[8]]\n",
    "\n",
    "tmp_token = tokenizer.texts_to_sequences(tmp_description)\n",
    "tmp_pad = pad_sequences(tmp_token, maxlen=max_length, padding=padding_type, truncating=trunc_type)\n",
    "tmp_pad = np.array(tmp_pad)\n",
    "\n",
    "label_encoder.inverse_transform([np.argmax(model.predict(tmp_pad))])[0]"
   ]
  },
  {
   "cell_type": "markdown",
   "id": "a70ff278",
   "metadata": {},
   "source": [
    "# Training based on Skills (Requirements)"
   ]
  },
  {
   "cell_type": "code",
   "execution_count": 80,
   "id": "1fa1b1a8",
   "metadata": {},
   "outputs": [
    {
     "name": "stdout",
     "output_type": "stream",
     "text": [
      "Train on 8000 samples, validate on 2000 samples\n",
      "Epoch 1/20\n",
      "8000/8000 - 19s - loss: 8.7584 - accuracy: 0.0194 - val_loss: 8.5363 - val_accuracy: 0.0170\n",
      "Epoch 2/20\n",
      "8000/8000 - 18s - loss: 8.2971 - accuracy: 0.0225 - val_loss: 8.5927 - val_accuracy: 0.0170\n",
      "Epoch 3/20\n",
      "8000/8000 - 18s - loss: 8.1263 - accuracy: 0.0217 - val_loss: 9.3974 - val_accuracy: 0.0170\n",
      "Epoch 4/20\n",
      "8000/8000 - 18s - loss: 7.9939 - accuracy: 0.0233 - val_loss: 9.3840 - val_accuracy: 0.0200\n",
      "Epoch 5/20\n",
      "8000/8000 - 18s - loss: 7.8826 - accuracy: 0.0241 - val_loss: 10.0732 - val_accuracy: 0.0200\n",
      "Epoch 6/20\n",
      "8000/8000 - 18s - loss: 7.7538 - accuracy: 0.0245 - val_loss: 10.6324 - val_accuracy: 0.0200\n",
      "Epoch 7/20\n",
      "8000/8000 - 18s - loss: 7.6543 - accuracy: 0.0262 - val_loss: 10.5823 - val_accuracy: 0.0200\n",
      "Epoch 8/20\n",
      "8000/8000 - 18s - loss: 7.5326 - accuracy: 0.0278 - val_loss: 11.1956 - val_accuracy: 0.0210\n",
      "Epoch 9/20\n",
      "8000/8000 - 18s - loss: 7.4183 - accuracy: 0.0280 - val_loss: 11.6024 - val_accuracy: 0.0215\n",
      "Epoch 10/20\n",
      "8000/8000 - 18s - loss: 7.3063 - accuracy: 0.0284 - val_loss: 11.9189 - val_accuracy: 0.0245\n",
      "Epoch 11/20\n",
      "8000/8000 - 18s - loss: 7.1952 - accuracy: 0.0306 - val_loss: 12.4052 - val_accuracy: 0.0285\n",
      "Epoch 12/20\n",
      "8000/8000 - 18s - loss: 7.1209 - accuracy: 0.0309 - val_loss: 13.0195 - val_accuracy: 0.0265\n",
      "Epoch 13/20\n",
      "8000/8000 - 18s - loss: 7.0364 - accuracy: 0.0312 - val_loss: 13.5066 - val_accuracy: 0.0305\n",
      "Epoch 14/20\n",
      "8000/8000 - 18s - loss: 6.9574 - accuracy: 0.0338 - val_loss: 13.7764 - val_accuracy: 0.0295\n",
      "Epoch 15/20\n",
      "8000/8000 - 18s - loss: 6.9139 - accuracy: 0.0334 - val_loss: 13.8840 - val_accuracy: 0.0280\n",
      "Epoch 16/20\n",
      "8000/8000 - 18s - loss: 6.8492 - accuracy: 0.0386 - val_loss: 14.0862 - val_accuracy: 0.0310\n",
      "Epoch 17/20\n",
      "8000/8000 - 18s - loss: 6.7874 - accuracy: 0.0347 - val_loss: 14.0024 - val_accuracy: 0.0305\n",
      "Epoch 18/20\n",
      "8000/8000 - 17s - loss: 6.7296 - accuracy: 0.0347 - val_loss: 13.8699 - val_accuracy: 0.0310\n",
      "Epoch 19/20\n",
      "8000/8000 - 17s - loss: 6.7038 - accuracy: 0.0350 - val_loss: 13.4227 - val_accuracy: 0.0340\n",
      "Epoch 20/20\n",
      "8000/8000 - 18s - loss: 6.6592 - accuracy: 0.0386 - val_loss: 13.3988 - val_accuracy: 0.0315\n"
     ]
    }
   ],
   "source": [
    "training_sentences, testing_sentences, training_labels, testing_labels = train_test_split(requirements, title_encoded, test_size=0.2)\n",
    "\n",
    "max_length = 1000\n",
    "\n",
    "# Preparing the data\n",
    "tokenizer = Tokenizer(num_words=vocab_size, oov_token=oov_tok)\n",
    "tokenizer.fit_on_texts(training_sentences)\n",
    "\n",
    "word_index = tokenizer.word_index\n",
    "\n",
    "training_sequences = tokenizer.texts_to_sequences(training_sentences)\n",
    "training_padded = pad_sequences(training_sequences, maxlen=max_length, padding=padding_type, truncating=trunc_type)\n",
    "\n",
    "testing_sequences = tokenizer.texts_to_sequences(testing_sentences)\n",
    "testing_padded = pad_sequences(testing_sequences, maxlen=max_length, padding=padding_type, truncating=trunc_type)\n",
    "\n",
    "training_padded = np.array(training_padded)\n",
    "training_labels = np.array(training_labels)\n",
    "testing_padded = np.array(testing_padded)\n",
    "testing_labels = np.array(testing_labels)\n",
    "\n",
    "# Creating the model\n",
    "model = tf.keras.Sequential([\n",
    "    tf.keras.layers.Embedding(vocab_size, embedding_dim, input_length=max_length),\n",
    "    tf.keras.layers.GlobalAveragePooling1D(),\n",
    "    tf.keras.layers.Dense(512, activation='relu'),\n",
    "    tf.keras.layers.Dense(512, activation='relu'),\n",
    "    tf.keras.layers.Dense(512, activation='relu'),\n",
    "    tf.keras.layers.Dense(7274, activation='sigmoid')\n",
    "])\n",
    "model.compile(loss='sparse_categorical_crossentropy',optimizer='adam',metrics=['accuracy'])\n",
    "num_epochs = 20\n",
    "history = model.fit(training_padded, training_labels, epochs=num_epochs, validation_data=(testing_padded, testing_labels), verbose=2)"
   ]
  },
  {
   "cell_type": "code",
   "execution_count": 81,
   "id": "1cc6c716",
   "metadata": {},
   "outputs": [
    {
     "data": {
      "image/png": "[encoded data removed]",
      "text/plain": [
       "<Figure size 432x288 with 1 Axes>"
      ]
     },
     "metadata": {
      "needs_background": "light"
     },
     "output_type": "display_data"
    },
    {
     "data": {
      "image/png": "[encoded data removed]",
      "text/plain": [
       "<Figure size 432x288 with 1 Axes>"
      ]
     },
     "metadata": {
      "needs_background": "light"
     },
     "output_type": "display_data"
    }
   ],
   "source": [
    "plot_graphs(history, \"accuracy\")\n",
    "plot_graphs(history, \"loss\")"
   ]
  },
  {
   "cell_type": "code",
   "execution_count": 88,
   "id": "72806b68",
   "metadata": {},
   "outputs": [
    {
     "data": {
      "text/plain": [
       "'skill set network security tools webdefend web application firewall (waf), cisco routers, fortigate 3800 firewall series, palo alto 4000 firewall series, cisco asa 5xx firewall platform, cisco fwsm, sourcefire defense center, sourcefire ip sensor platform, bluecoat sg appliance, f5 bigip(reverse proxy). web application tools appdective, fortify sca, hp webinspect, and the like. network vulnerability tools tenable security center, mcafee foundstone scanner, cain and able, l0phtcrack - password cracker, nessus vulnerability scanner, nmap port scanner, and other scanning and vulnerability mapping tools. desirable skills cissp and/or related certifications education and years of experience bs computer science or related discipline minimum of 8 years in it security minimum 4 years in senior/lead position apply here'"
      ]
     },
     "execution_count": 88,
     "metadata": {},
     "output_type": "execute_result"
    }
   ],
   "source": [
    "requirements[0]"
   ]
  },
  {
   "cell_type": "code",
   "execution_count": 89,
   "id": "3a21ad71",
   "metadata": {},
   "outputs": [
    {
     "data": {
      "text/plain": [
       "'Systems Administrator'"
      ]
     },
     "execution_count": 89,
     "metadata": {},
     "output_type": "execute_result"
    }
   ],
   "source": [
    "tmp_description = [requirements[0]]\n",
    "\n",
    "tmp_token = tokenizer.texts_to_sequences(tmp_description)\n",
    "tmp_pad = pad_sequences(tmp_token, maxlen=max_length, padding=padding_type, truncating=trunc_type)\n",
    "tmp_pad = np.array(tmp_pad)\n",
    "\n",
    "label_encoder.inverse_transform([np.argmax(model.predict(tmp_pad))])[0]"
   ]
  },
  {
   "cell_type": "markdown",
   "id": "b6f4f05d",
   "metadata": {},
   "source": [
    "# Problem with (skills)requirements"
   ]
  },
  {
   "cell_type": "code",
   "execution_count": 91,
   "id": "d9e91632",
   "metadata": {},
   "outputs": [
    {
     "data": {
      "text/plain": [
       "'please refer to the job description to view the requirements for this job'"
      ]
     },
     "execution_count": 91,
     "metadata": {},
     "output_type": "execute_result"
    }
   ],
   "source": [
    "requirements[2]"
   ]
  },
  {
   "cell_type": "code",
   "execution_count": 94,
   "id": "d2fc1472",
   "metadata": {},
   "outputs": [
    {
     "data": {
      "text/plain": [
       "611"
      ]
     },
     "execution_count": 94,
     "metadata": {},
     "output_type": "execute_result"
    }
   ],
   "source": [
    "(requirements == 'please refer to the job description to view the requirements for this job').sum()"
   ]
  },
  {
   "cell_type": "code",
   "execution_count": 98,
   "id": "93db5599",
   "metadata": {},
   "outputs": [
    {
     "data": {
      "text/plain": [
       "({'.': 538,\n",
       "  ' ': 415,\n",
       "  'please refer to the job description to view the requirements for this job': 611,\n",
       "  'see above': 150},\n",
       " 1714)"
      ]
     },
     "execution_count": 98,
     "metadata": {},
     "output_type": "execute_result"
    }
   ],
   "source": [
    "tmp = ['.', ' ', 'please refer to the job description to view the requirements for this job', 'see above']\n",
    "count = 0\n",
    "d = {}\n",
    "for i in tmp:\n",
    "    d[i] = (requirements == i).sum()\n",
    "    count += d[i]\n",
    "d, count"
   ]
  },
  {
   "cell_type": "code",
   "execution_count": 95,
   "id": "47ef026d",
   "metadata": {},
   "outputs": [
    {
     "data": {
      "text/plain": [
       "please refer to the job description to view the requirements for this job                                                                                                                                                                                                                                                                                                                                                                                                                                                                                                                                                                                                                                                                                                                                                                                                                                                                                                                                                                                                                                                                                                                                                                                                                                                                                                                                                                                                                                                                                                                                                                                                                                                                                                          611\n",
       ".                                                                                                                                                                                                                                                                                                                                                                                                                                                                                                                                                                                                                                                                                                                                                                                                                                                                                                                                                                                                                                                                                                                                                                                                                                                                                                                                                                                                                                                                                                                                                                                                                                                                                                                                                                                  538\n",
       "                                                                                                                                                                                                                                                                                                                                                                                                                                                                                                                                                                                                                                                                                                                                                                                                                                                                                                                                                                                                                                                                                                                                                                                                                                                                                                                                                                                                                                                                                                                                                                                                                                                                                                                                                                                   415\n",
       " core duties and responsibilities responsible for selling products and services to new and existing customers. responsible for maintaining current sales metrics. responsible for adhering to all sales processes and procedures as established by region and by corporate. responsible for executing promotions and meeting or exceeding established sales goals as established within district. responsible for handling customer service issues. responsible for monitoring store merchandise to maintain optimum inventory level. responsible for maintaining store standards and appearance as established by store manager (sm) and district manager (dm). responsible for providing data as requested by sm/dm and completing weekly reports as required. flexible to work stores within district and outside of district as needed. responsible for adherence to all company policies and procedures. responsible for cold calling and supporting sales cross-promotions. must be able to work independently in a retail storefront. other miscellaneous duties as assigned by the sm and dm. only those with a strong desire to succeed and make money need apply. most of our sales management team has been promoted from within, so those wanting to further their careers have the environment to succeed at go wireless. note this job description is not intended to be all-inclusive. employee may perform other related duties as negotiated to meet the ongoing needs of the organization if you are qualified and interested, please apply to this job posting or e-mail your updated resume in word .doc format ______________________________________________________________________________ go wireless is proud to be an equal opportunity employer.       170\n",
       "see above                                                                                                                                                                                                                                                                                                                                                                                                                                                                                                                                                                                                                                                                                                                                                                                                                                                                                                                                                                                                                                                                                                                                                                                                                                                                                                                                                                                                                                                                                                                                                                                                                                                                                                                                                                          150\n",
       "                                                                                                                                                                                                                                                                                                                                                                                                                                                                                                                                                                                                                                                                                                                                                                                                                                                                                                                                                                                                                                                                                                                                                                                                                                                                                                                                                                                                                                                                                                                                                                                                                                                                                                                                                                                  ... \n",
       "must be computer proficient. knowledge of yardi program a plus. excellent salary, incentives and benefits. fax resume to (856) 663 4834.                                                                                                                                                                                                                                                                                                                                                                                                                                                                                                                                                                                                                                                                                                                                                                                                                                                                                                                                                                                                                                                                                                                                                                                                                                                                                                                                                                                                                                                                                                                                                                                                                                             1\n",
       "must be detail oriented and have experience with accounting, ms works, excel and access. bilingual in spanish a plus. our candidate must feel comfortable performing a wide variety of duties on a daily basis, with minimal supervision and direction once established in the position.                                                                                                                                                                                                                                                                                                                                                                                                                                                                                                                                                                                                                                                                                                                                                                                                                                                                                                                                                                                                                                                                                                                                                                                                                                                                                                                                                                                                                                                                                             1\n",
       "must be detail oriented, adept at multi-tasking, and a self-starter. ability to effectively manage urgent deadlines, organize and multi task a variety of details in ever changing situations. must be proficient with final cut pro, after effects, protools, cinema 4-d, photoshop, illustrator. knowledge of flash animation and digital design skills a plus. education college degree or trade school certification preferred. high school diploma required. experience 7-10 years of experience working as a graphic designer/art director/animator at ad agency, editorial, production company or television station. must be able to provide a link to a demo or sample of work for consideration. univision network is an equal opportunity employer.                                                                                                                                                                                                                                                                                                                                                                                                                                                                                                                                                                                                                                                                                                                                                                                                                                                                                                                                                                                                                       1\n",
       "must be fluent in english and spanish. must also have experience working in an administrative environment with a warehouse attached. must have at least 3 years of administrative experience.                                                                                                                                                                                                                                                                                                                                                                                                                                                                                                                                                                                                                                                                                                                                                                                                                                                                                                                                                                                                                                                                                                                                                                                                                                                                                                                                                                                                                                                                                                                                                                                        1\n",
       "education bachelor's degree in healthcare ohio registered nurse experience 2-3 years clinical healthcare home care experience specialized knowledge epic department specific qualificiations computer skills and exceptional writing skills a must experience writing level of care's a plus marketing/sales experience preferred, but not required apply online at www.trihealth.com to job #20994                                                                                                                                                                                                                                                                                                                                                                                                                                                                                                                                                                                                                                                                                                                                                                                                                                                                                                                                                                                                                                                                                                                                                                                                                                                                                                                                                                                  1\n",
       "Length: 6295, dtype: int64"
      ]
     },
     "execution_count": 95,
     "metadata": {},
     "output_type": "execute_result"
    }
   ],
   "source": [
    "pd.DataFrame(requirements).value_counts()"
   ]
  },
  {
   "cell_type": "markdown",
   "id": "62083974",
   "metadata": {},
   "source": [
    "## Changing parmeter max_length to 5000 epochs to 100 and increasing the model size"
   ]
  },
  {
   "cell_type": "code",
   "execution_count": 99,
   "id": "27a5b210",
   "metadata": {
    "scrolled": true
   },
   "outputs": [
    {
     "name": "stdout",
     "output_type": "stream",
     "text": [
      "Train on 8000 samples, validate on 2000 samples\n",
      "Epoch 1/100\n",
      "8000/8000 - 34s - loss: 8.7309 - accuracy: 0.0210 - val_loss: 8.5050 - val_accuracy: 0.0190\n",
      "Epoch 2/100\n",
      "8000/8000 - 33s - loss: 8.2402 - accuracy: 0.0241 - val_loss: 8.7682 - val_accuracy: 0.0190\n",
      "Epoch 3/100\n",
      "8000/8000 - 34s - loss: 8.1068 - accuracy: 0.0304 - val_loss: 8.8984 - val_accuracy: 0.0395\n",
      "Epoch 4/100\n",
      "8000/8000 - 33s - loss: 7.9709 - accuracy: 0.0500 - val_loss: 9.4180 - val_accuracy: 0.0470\n",
      "Epoch 5/100\n",
      "8000/8000 - 34s - loss: 7.7992 - accuracy: 0.0547 - val_loss: 9.7464 - val_accuracy: 0.0510\n",
      "Epoch 6/100\n",
      "8000/8000 - 34s - loss: 7.6205 - accuracy: 0.0581 - val_loss: 10.5063 - val_accuracy: 0.0540\n",
      "Epoch 7/100\n",
      "8000/8000 - 34s - loss: 7.4624 - accuracy: 0.0649 - val_loss: 10.7906 - val_accuracy: 0.0585\n",
      "Epoch 8/100\n",
      "8000/8000 - 34s - loss: 7.3395 - accuracy: 0.0693 - val_loss: 11.4118 - val_accuracy: 0.0605\n",
      "Epoch 9/100\n",
      "8000/8000 - 34s - loss: 7.2045 - accuracy: 0.0705 - val_loss: 11.7426 - val_accuracy: 0.0610\n",
      "Epoch 10/100\n",
      "8000/8000 - 33s - loss: 7.1114 - accuracy: 0.0701 - val_loss: 12.2195 - val_accuracy: 0.0630\n",
      "Epoch 11/100\n",
      "8000/8000 - 37s - loss: 6.9972 - accuracy: 0.0716 - val_loss: 12.8944 - val_accuracy: 0.0655\n",
      "Epoch 12/100\n",
      "8000/8000 - 36s - loss: 6.8866 - accuracy: 0.0726 - val_loss: 13.5626 - val_accuracy: 0.0615\n",
      "Epoch 13/100\n",
      "8000/8000 - 35s - loss: 6.8079 - accuracy: 0.0751 - val_loss: 13.7943 - val_accuracy: 0.0605\n",
      "Epoch 14/100\n",
      "8000/8000 - 35s - loss: 6.7724 - accuracy: 0.0735 - val_loss: 14.2937 - val_accuracy: 0.0685\n",
      "Epoch 15/100\n",
      "8000/8000 - 35s - loss: 6.6790 - accuracy: 0.0764 - val_loss: 15.1920 - val_accuracy: 0.0700\n",
      "Epoch 16/100\n",
      "8000/8000 - 33s - loss: 6.6182 - accuracy: 0.0764 - val_loss: 15.7116 - val_accuracy: 0.0580\n",
      "Epoch 17/100\n",
      "8000/8000 - 33s - loss: 6.5861 - accuracy: 0.0756 - val_loss: 16.4289 - val_accuracy: 0.0695\n",
      "Epoch 18/100\n",
      "8000/8000 - 33s - loss: 6.4733 - accuracy: 0.0794 - val_loss: 16.9256 - val_accuracy: 0.0680\n",
      "Epoch 19/100\n",
      "8000/8000 - 34s - loss: 6.4310 - accuracy: 0.0793 - val_loss: 17.4908 - val_accuracy: 0.0635\n",
      "Epoch 20/100\n",
      "8000/8000 - 34s - loss: 6.3745 - accuracy: 0.0803 - val_loss: 18.7235 - val_accuracy: 0.0725\n",
      "Epoch 21/100\n",
      "8000/8000 - 34s - loss: 6.3314 - accuracy: 0.0826 - val_loss: 18.7582 - val_accuracy: 0.0770\n",
      "Epoch 22/100\n",
      "8000/8000 - 33s - loss: 6.3161 - accuracy: 0.0800 - val_loss: 19.1393 - val_accuracy: 0.0705\n",
      "Epoch 23/100\n",
      "8000/8000 - 33s - loss: 6.2746 - accuracy: 0.0834 - val_loss: 19.4827 - val_accuracy: 0.0750\n",
      "Epoch 24/100\n",
      "8000/8000 - 33s - loss: 6.2435 - accuracy: 0.0826 - val_loss: 19.6921 - val_accuracy: 0.0775\n",
      "Epoch 25/100\n",
      "8000/8000 - 36s - loss: 6.1716 - accuracy: 0.0849 - val_loss: 20.7904 - val_accuracy: 0.0685\n",
      "Epoch 26/100\n",
      "8000/8000 - 38s - loss: 6.1881 - accuracy: 0.0830 - val_loss: 20.8725 - val_accuracy: 0.0700\n",
      "Epoch 27/100\n",
      "8000/8000 - 33s - loss: 6.0992 - accuracy: 0.0862 - val_loss: 21.6239 - val_accuracy: 0.0715\n",
      "Epoch 28/100\n",
      "8000/8000 - 39s - loss: 6.1239 - accuracy: 0.0859 - val_loss: 21.7219 - val_accuracy: 0.0750\n",
      "Epoch 29/100\n",
      "8000/8000 - 38s - loss: 6.1357 - accuracy: 0.0790 - val_loss: 20.7562 - val_accuracy: 0.0710\n",
      "Epoch 30/100\n",
      "8000/8000 - 34s - loss: 6.0541 - accuracy: 0.0876 - val_loss: 21.2281 - val_accuracy: 0.0740\n",
      "Epoch 31/100\n",
      "8000/8000 - 33s - loss: 6.0638 - accuracy: 0.0870 - val_loss: 21.1835 - val_accuracy: 0.0740\n",
      "Epoch 32/100\n",
      "8000/8000 - 34s - loss: 6.0359 - accuracy: 0.0874 - val_loss: 22.2972 - val_accuracy: 0.0760\n",
      "Epoch 33/100\n",
      "8000/8000 - 34s - loss: 6.0646 - accuracy: 0.0869 - val_loss: 21.5910 - val_accuracy: 0.0785\n",
      "Epoch 34/100\n",
      "8000/8000 - 34s - loss: 5.9683 - accuracy: 0.0875 - val_loss: 21.9181 - val_accuracy: 0.0735\n",
      "Epoch 35/100\n",
      "8000/8000 - 33s - loss: 5.9637 - accuracy: 0.0894 - val_loss: 22.7825 - val_accuracy: 0.0745\n",
      "Epoch 36/100\n",
      "8000/8000 - 33s - loss: 5.8877 - accuracy: 0.0927 - val_loss: 23.2013 - val_accuracy: 0.0775\n",
      "Epoch 37/100\n",
      "8000/8000 - 34s - loss: 5.8877 - accuracy: 0.0899 - val_loss: 23.2792 - val_accuracy: 0.0735\n",
      "Epoch 38/100\n",
      "8000/8000 - 34s - loss: 5.8464 - accuracy: 0.0914 - val_loss: 24.2142 - val_accuracy: 0.0780\n",
      "Epoch 39/100\n",
      "8000/8000 - 34s - loss: 5.9150 - accuracy: 0.0874 - val_loss: 22.3713 - val_accuracy: 0.0730\n",
      "Epoch 40/100\n",
      "8000/8000 - 35s - loss: 5.8236 - accuracy: 0.0879 - val_loss: 24.4029 - val_accuracy: 0.0775\n",
      "Epoch 41/100\n",
      "8000/8000 - 34s - loss: 5.8178 - accuracy: 0.0891 - val_loss: 24.3687 - val_accuracy: 0.0805\n",
      "Epoch 42/100\n",
      "8000/8000 - 39s - loss: 5.7820 - accuracy: 0.0921 - val_loss: 24.5974 - val_accuracy: 0.0805\n",
      "Epoch 43/100\n",
      "8000/8000 - 34s - loss: 5.7332 - accuracy: 0.0929 - val_loss: 25.1436 - val_accuracy: 0.0755\n",
      "Epoch 44/100\n",
      "8000/8000 - 34s - loss: 5.8072 - accuracy: 0.0884 - val_loss: 24.6758 - val_accuracy: 0.0780\n",
      "Epoch 45/100\n",
      "8000/8000 - 33s - loss: 5.7500 - accuracy: 0.0911 - val_loss: 24.4518 - val_accuracy: 0.0765\n",
      "Epoch 46/100\n",
      "8000/8000 - 34s - loss: 5.7073 - accuracy: 0.0935 - val_loss: 24.8365 - val_accuracy: 0.0765\n",
      "Epoch 47/100\n",
      "8000/8000 - 33s - loss: 5.7001 - accuracy: 0.0904 - val_loss: 25.4218 - val_accuracy: 0.0735\n",
      "Epoch 48/100\n",
      "8000/8000 - 33s - loss: 5.6814 - accuracy: 0.0918 - val_loss: 25.5910 - val_accuracy: 0.0800\n",
      "Epoch 49/100\n",
      "8000/8000 - 33s - loss: 5.6345 - accuracy: 0.0950 - val_loss: 25.8928 - val_accuracy: 0.0775\n",
      "Epoch 50/100\n",
      "8000/8000 - 36s - loss: 5.7077 - accuracy: 0.0921 - val_loss: 25.9599 - val_accuracy: 0.0825\n",
      "Epoch 51/100\n",
      "8000/8000 - 33s - loss: 5.6522 - accuracy: 0.0900 - val_loss: 25.6842 - val_accuracy: 0.0755\n",
      "Epoch 52/100\n"
     ]
    },
    {
     "ename": "KeyboardInterrupt",
     "evalue": "",
     "output_type": "error",
     "traceback": [
      "\u001b[0;31m---------------------------------------------------------------------------\u001b[0m",
      "\u001b[0;31mKeyboardInterrupt\u001b[0m                         Traceback (most recent call last)",
      "\u001b[0;32m<ipython-input-99-5bfcce2bfd6e>\u001b[0m in \u001b[0;36m<module>\u001b[0;34m\u001b[0m\n\u001b[1;32m     32\u001b[0m \u001b[0mmodel\u001b[0m\u001b[0;34m.\u001b[0m\u001b[0mcompile\u001b[0m\u001b[0;34m(\u001b[0m\u001b[0mloss\u001b[0m\u001b[0;34m=\u001b[0m\u001b[0;34m'sparse_categorical_crossentropy'\u001b[0m\u001b[0;34m,\u001b[0m\u001b[0moptimizer\u001b[0m\u001b[0;34m=\u001b[0m\u001b[0;34m'adam'\u001b[0m\u001b[0;34m,\u001b[0m\u001b[0mmetrics\u001b[0m\u001b[0;34m=\u001b[0m\u001b[0;34m[\u001b[0m\u001b[0;34m'accuracy'\u001b[0m\u001b[0;34m]\u001b[0m\u001b[0;34m)\u001b[0m\u001b[0;34m\u001b[0m\u001b[0;34m\u001b[0m\u001b[0m\n\u001b[1;32m     33\u001b[0m \u001b[0mnum_epochs\u001b[0m \u001b[0;34m=\u001b[0m \u001b[0;36m100\u001b[0m\u001b[0;34m\u001b[0m\u001b[0;34m\u001b[0m\u001b[0m\n\u001b[0;32m---> 34\u001b[0;31m \u001b[0mhistory\u001b[0m \u001b[0;34m=\u001b[0m \u001b[0mmodel\u001b[0m\u001b[0;34m.\u001b[0m\u001b[0mfit\u001b[0m\u001b[0;34m(\u001b[0m\u001b[0mtraining_padded\u001b[0m\u001b[0;34m,\u001b[0m \u001b[0mtraining_labels\u001b[0m\u001b[0;34m,\u001b[0m \u001b[0mepochs\u001b[0m\u001b[0;34m=\u001b[0m\u001b[0mnum_epochs\u001b[0m\u001b[0;34m,\u001b[0m \u001b[0mvalidation_data\u001b[0m\u001b[0;34m=\u001b[0m\u001b[0;34m(\u001b[0m\u001b[0mtesting_padded\u001b[0m\u001b[0;34m,\u001b[0m \u001b[0mtesting_labels\u001b[0m\u001b[0;34m)\u001b[0m\u001b[0;34m,\u001b[0m \u001b[0mverbose\u001b[0m\u001b[0;34m=\u001b[0m\u001b[0;36m2\u001b[0m\u001b[0;34m)\u001b[0m\u001b[0;34m\u001b[0m\u001b[0;34m\u001b[0m\u001b[0m\n\u001b[0m",
      "\u001b[0;32m~/Desktop/sample_project/env/lib/python3.6/site-packages/tensorflow_core/python/keras/engine/training.py\u001b[0m in \u001b[0;36mfit\u001b[0;34m(self, x, y, batch_size, epochs, verbose, callbacks, validation_split, validation_data, shuffle, class_weight, sample_weight, initial_epoch, steps_per_epoch, validation_steps, validation_freq, max_queue_size, workers, use_multiprocessing, **kwargs)\u001b[0m\n\u001b[1;32m    726\u001b[0m         \u001b[0mmax_queue_size\u001b[0m\u001b[0;34m=\u001b[0m\u001b[0mmax_queue_size\u001b[0m\u001b[0;34m,\u001b[0m\u001b[0;34m\u001b[0m\u001b[0;34m\u001b[0m\u001b[0m\n\u001b[1;32m    727\u001b[0m         \u001b[0mworkers\u001b[0m\u001b[0;34m=\u001b[0m\u001b[0mworkers\u001b[0m\u001b[0;34m,\u001b[0m\u001b[0;34m\u001b[0m\u001b[0;34m\u001b[0m\u001b[0m\n\u001b[0;32m--> 728\u001b[0;31m         use_multiprocessing=use_multiprocessing)\n\u001b[0m\u001b[1;32m    729\u001b[0m \u001b[0;34m\u001b[0m\u001b[0m\n\u001b[1;32m    730\u001b[0m   def evaluate(self,\n",
      "\u001b[0;32m~/Desktop/sample_project/env/lib/python3.6/site-packages/tensorflow_core/python/keras/engine/training_v2.py\u001b[0m in \u001b[0;36mfit\u001b[0;34m(self, model, x, y, batch_size, epochs, verbose, callbacks, validation_split, validation_data, shuffle, class_weight, sample_weight, initial_epoch, steps_per_epoch, validation_steps, validation_freq, **kwargs)\u001b[0m\n\u001b[1;32m    322\u001b[0m                 \u001b[0mmode\u001b[0m\u001b[0;34m=\u001b[0m\u001b[0mModeKeys\u001b[0m\u001b[0;34m.\u001b[0m\u001b[0mTRAIN\u001b[0m\u001b[0;34m,\u001b[0m\u001b[0;34m\u001b[0m\u001b[0;34m\u001b[0m\u001b[0m\n\u001b[1;32m    323\u001b[0m                 \u001b[0mtraining_context\u001b[0m\u001b[0;34m=\u001b[0m\u001b[0mtraining_context\u001b[0m\u001b[0;34m,\u001b[0m\u001b[0;34m\u001b[0m\u001b[0;34m\u001b[0m\u001b[0m\n\u001b[0;32m--> 324\u001b[0;31m                 total_epochs=epochs)\n\u001b[0m\u001b[1;32m    325\u001b[0m             \u001b[0mcbks\u001b[0m\u001b[0;34m.\u001b[0m\u001b[0mmake_logs\u001b[0m\u001b[0;34m(\u001b[0m\u001b[0mmodel\u001b[0m\u001b[0;34m,\u001b[0m \u001b[0mepoch_logs\u001b[0m\u001b[0;34m,\u001b[0m \u001b[0mtraining_result\u001b[0m\u001b[0;34m,\u001b[0m \u001b[0mModeKeys\u001b[0m\u001b[0;34m.\u001b[0m\u001b[0mTRAIN\u001b[0m\u001b[0;34m)\u001b[0m\u001b[0;34m\u001b[0m\u001b[0;34m\u001b[0m\u001b[0m\n\u001b[1;32m    326\u001b[0m \u001b[0;34m\u001b[0m\u001b[0m\n",
      "\u001b[0;32m~/Desktop/sample_project/env/lib/python3.6/site-packages/tensorflow_core/python/keras/engine/training_v2.py\u001b[0m in \u001b[0;36mrun_one_epoch\u001b[0;34m(model, iterator, execution_function, dataset_size, batch_size, strategy, steps_per_epoch, num_samples, mode, training_context, total_epochs)\u001b[0m\n\u001b[1;32m    121\u001b[0m         step=step, mode=mode, size=current_batch_size) as batch_logs:\n\u001b[1;32m    122\u001b[0m       \u001b[0;32mtry\u001b[0m\u001b[0;34m:\u001b[0m\u001b[0;34m\u001b[0m\u001b[0;34m\u001b[0m\u001b[0m\n\u001b[0;32m--> 123\u001b[0;31m         \u001b[0mbatch_outs\u001b[0m \u001b[0;34m=\u001b[0m \u001b[0mexecution_function\u001b[0m\u001b[0;34m(\u001b[0m\u001b[0miterator\u001b[0m\u001b[0;34m)\u001b[0m\u001b[0;34m\u001b[0m\u001b[0;34m\u001b[0m\u001b[0m\n\u001b[0m\u001b[1;32m    124\u001b[0m       \u001b[0;32mexcept\u001b[0m \u001b[0;34m(\u001b[0m\u001b[0mStopIteration\u001b[0m\u001b[0;34m,\u001b[0m \u001b[0merrors\u001b[0m\u001b[0;34m.\u001b[0m\u001b[0mOutOfRangeError\u001b[0m\u001b[0;34m)\u001b[0m\u001b[0;34m:\u001b[0m\u001b[0;34m\u001b[0m\u001b[0;34m\u001b[0m\u001b[0m\n\u001b[1;32m    125\u001b[0m         \u001b[0;31m# TODO(kaftan): File bug about tf function and errors.OutOfRangeError?\u001b[0m\u001b[0;34m\u001b[0m\u001b[0;34m\u001b[0m\u001b[0;34m\u001b[0m\u001b[0m\n",
      "\u001b[0;32m~/Desktop/sample_project/env/lib/python3.6/site-packages/tensorflow_core/python/keras/engine/training_v2_utils.py\u001b[0m in \u001b[0;36mexecution_function\u001b[0;34m(input_fn)\u001b[0m\n\u001b[1;32m     84\u001b[0m     \u001b[0;31m# `numpy` translates Tensors to values in Eager mode.\u001b[0m\u001b[0;34m\u001b[0m\u001b[0;34m\u001b[0m\u001b[0;34m\u001b[0m\u001b[0m\n\u001b[1;32m     85\u001b[0m     return nest.map_structure(_non_none_constant_value,\n\u001b[0;32m---> 86\u001b[0;31m                               distributed_function(input_fn))\n\u001b[0m\u001b[1;32m     87\u001b[0m \u001b[0;34m\u001b[0m\u001b[0m\n\u001b[1;32m     88\u001b[0m   \u001b[0;32mreturn\u001b[0m \u001b[0mexecution_function\u001b[0m\u001b[0;34m\u001b[0m\u001b[0;34m\u001b[0m\u001b[0m\n",
      "\u001b[0;32m~/Desktop/sample_project/env/lib/python3.6/site-packages/tensorflow_core/python/eager/def_function.py\u001b[0m in \u001b[0;36m__call__\u001b[0;34m(self, *args, **kwds)\u001b[0m\n\u001b[1;32m    455\u001b[0m \u001b[0;34m\u001b[0m\u001b[0m\n\u001b[1;32m    456\u001b[0m     \u001b[0mtracing_count\u001b[0m \u001b[0;34m=\u001b[0m \u001b[0mself\u001b[0m\u001b[0;34m.\u001b[0m\u001b[0m_get_tracing_count\u001b[0m\u001b[0;34m(\u001b[0m\u001b[0;34m)\u001b[0m\u001b[0;34m\u001b[0m\u001b[0;34m\u001b[0m\u001b[0m\n\u001b[0;32m--> 457\u001b[0;31m     \u001b[0mresult\u001b[0m \u001b[0;34m=\u001b[0m \u001b[0mself\u001b[0m\u001b[0;34m.\u001b[0m\u001b[0m_call\u001b[0m\u001b[0;34m(\u001b[0m\u001b[0;34m*\u001b[0m\u001b[0margs\u001b[0m\u001b[0;34m,\u001b[0m \u001b[0;34m**\u001b[0m\u001b[0mkwds\u001b[0m\u001b[0;34m)\u001b[0m\u001b[0;34m\u001b[0m\u001b[0;34m\u001b[0m\u001b[0m\n\u001b[0m\u001b[1;32m    458\u001b[0m     \u001b[0;32mif\u001b[0m \u001b[0mtracing_count\u001b[0m \u001b[0;34m==\u001b[0m \u001b[0mself\u001b[0m\u001b[0;34m.\u001b[0m\u001b[0m_get_tracing_count\u001b[0m\u001b[0;34m(\u001b[0m\u001b[0;34m)\u001b[0m\u001b[0;34m:\u001b[0m\u001b[0;34m\u001b[0m\u001b[0;34m\u001b[0m\u001b[0m\n\u001b[1;32m    459\u001b[0m       \u001b[0mself\u001b[0m\u001b[0;34m.\u001b[0m\u001b[0m_call_counter\u001b[0m\u001b[0;34m.\u001b[0m\u001b[0mcalled_without_tracing\u001b[0m\u001b[0;34m(\u001b[0m\u001b[0;34m)\u001b[0m\u001b[0;34m\u001b[0m\u001b[0;34m\u001b[0m\u001b[0m\n",
      "\u001b[0;32m~/Desktop/sample_project/env/lib/python3.6/site-packages/tensorflow_core/python/eager/def_function.py\u001b[0m in \u001b[0;36m_call\u001b[0;34m(self, *args, **kwds)\u001b[0m\n\u001b[1;32m    485\u001b[0m       \u001b[0;31m# In this case we have created variables on the first call, so we run the\u001b[0m\u001b[0;34m\u001b[0m\u001b[0;34m\u001b[0m\u001b[0;34m\u001b[0m\u001b[0m\n\u001b[1;32m    486\u001b[0m       \u001b[0;31m# defunned version which is guaranteed to never create variables.\u001b[0m\u001b[0;34m\u001b[0m\u001b[0;34m\u001b[0m\u001b[0;34m\u001b[0m\u001b[0m\n\u001b[0;32m--> 487\u001b[0;31m       \u001b[0;32mreturn\u001b[0m \u001b[0mself\u001b[0m\u001b[0;34m.\u001b[0m\u001b[0m_stateless_fn\u001b[0m\u001b[0;34m(\u001b[0m\u001b[0;34m*\u001b[0m\u001b[0margs\u001b[0m\u001b[0;34m,\u001b[0m \u001b[0;34m**\u001b[0m\u001b[0mkwds\u001b[0m\u001b[0;34m)\u001b[0m  \u001b[0;31m# pylint: disable=not-callable\u001b[0m\u001b[0;34m\u001b[0m\u001b[0;34m\u001b[0m\u001b[0m\n\u001b[0m\u001b[1;32m    488\u001b[0m     \u001b[0;32melif\u001b[0m \u001b[0mself\u001b[0m\u001b[0;34m.\u001b[0m\u001b[0m_stateful_fn\u001b[0m \u001b[0;32mis\u001b[0m \u001b[0;32mnot\u001b[0m \u001b[0;32mNone\u001b[0m\u001b[0;34m:\u001b[0m\u001b[0;34m\u001b[0m\u001b[0;34m\u001b[0m\u001b[0m\n\u001b[1;32m    489\u001b[0m       \u001b[0;31m# Release the lock early so that multiple threads can perform the call\u001b[0m\u001b[0;34m\u001b[0m\u001b[0;34m\u001b[0m\u001b[0;34m\u001b[0m\u001b[0m\n",
      "\u001b[0;32m~/Desktop/sample_project/env/lib/python3.6/site-packages/tensorflow_core/python/eager/function.py\u001b[0m in \u001b[0;36m__call__\u001b[0;34m(self, *args, **kwargs)\u001b[0m\n\u001b[1;32m   1821\u001b[0m     \u001b[0;34m\"\"\"Calls a graph function specialized to the inputs.\"\"\"\u001b[0m\u001b[0;34m\u001b[0m\u001b[0;34m\u001b[0m\u001b[0m\n\u001b[1;32m   1822\u001b[0m     \u001b[0mgraph_function\u001b[0m\u001b[0;34m,\u001b[0m \u001b[0margs\u001b[0m\u001b[0;34m,\u001b[0m \u001b[0mkwargs\u001b[0m \u001b[0;34m=\u001b[0m \u001b[0mself\u001b[0m\u001b[0;34m.\u001b[0m\u001b[0m_maybe_define_function\u001b[0m\u001b[0;34m(\u001b[0m\u001b[0margs\u001b[0m\u001b[0;34m,\u001b[0m \u001b[0mkwargs\u001b[0m\u001b[0;34m)\u001b[0m\u001b[0;34m\u001b[0m\u001b[0;34m\u001b[0m\u001b[0m\n\u001b[0;32m-> 1823\u001b[0;31m     \u001b[0;32mreturn\u001b[0m \u001b[0mgraph_function\u001b[0m\u001b[0;34m.\u001b[0m\u001b[0m_filtered_call\u001b[0m\u001b[0;34m(\u001b[0m\u001b[0margs\u001b[0m\u001b[0;34m,\u001b[0m \u001b[0mkwargs\u001b[0m\u001b[0;34m)\u001b[0m  \u001b[0;31m# pylint: disable=protected-access\u001b[0m\u001b[0;34m\u001b[0m\u001b[0;34m\u001b[0m\u001b[0m\n\u001b[0m\u001b[1;32m   1824\u001b[0m \u001b[0;34m\u001b[0m\u001b[0m\n\u001b[1;32m   1825\u001b[0m   \u001b[0;34m@\u001b[0m\u001b[0mproperty\u001b[0m\u001b[0;34m\u001b[0m\u001b[0;34m\u001b[0m\u001b[0m\n",
      "\u001b[0;32m~/Desktop/sample_project/env/lib/python3.6/site-packages/tensorflow_core/python/eager/function.py\u001b[0m in \u001b[0;36m_filtered_call\u001b[0;34m(self, args, kwargs)\u001b[0m\n\u001b[1;32m   1139\u001b[0m          if isinstance(t, (ops.Tensor,\n\u001b[1;32m   1140\u001b[0m                            resource_variable_ops.BaseResourceVariable))),\n\u001b[0;32m-> 1141\u001b[0;31m         self.captured_inputs)\n\u001b[0m\u001b[1;32m   1142\u001b[0m \u001b[0;34m\u001b[0m\u001b[0m\n\u001b[1;32m   1143\u001b[0m   \u001b[0;32mdef\u001b[0m \u001b[0m_call_flat\u001b[0m\u001b[0;34m(\u001b[0m\u001b[0mself\u001b[0m\u001b[0;34m,\u001b[0m \u001b[0margs\u001b[0m\u001b[0;34m,\u001b[0m \u001b[0mcaptured_inputs\u001b[0m\u001b[0;34m,\u001b[0m \u001b[0mcancellation_manager\u001b[0m\u001b[0;34m=\u001b[0m\u001b[0;32mNone\u001b[0m\u001b[0;34m)\u001b[0m\u001b[0;34m:\u001b[0m\u001b[0;34m\u001b[0m\u001b[0;34m\u001b[0m\u001b[0m\n",
      "\u001b[0;32m~/Desktop/sample_project/env/lib/python3.6/site-packages/tensorflow_core/python/eager/function.py\u001b[0m in \u001b[0;36m_call_flat\u001b[0;34m(self, args, captured_inputs, cancellation_manager)\u001b[0m\n\u001b[1;32m   1222\u001b[0m     \u001b[0;32mif\u001b[0m \u001b[0mexecuting_eagerly\u001b[0m\u001b[0;34m:\u001b[0m\u001b[0;34m\u001b[0m\u001b[0;34m\u001b[0m\u001b[0m\n\u001b[1;32m   1223\u001b[0m       flat_outputs = forward_function.call(\n\u001b[0;32m-> 1224\u001b[0;31m           ctx, args, cancellation_manager=cancellation_manager)\n\u001b[0m\u001b[1;32m   1225\u001b[0m     \u001b[0;32melse\u001b[0m\u001b[0;34m:\u001b[0m\u001b[0;34m\u001b[0m\u001b[0;34m\u001b[0m\u001b[0m\n\u001b[1;32m   1226\u001b[0m       \u001b[0mgradient_name\u001b[0m \u001b[0;34m=\u001b[0m \u001b[0mself\u001b[0m\u001b[0;34m.\u001b[0m\u001b[0m_delayed_rewrite_functions\u001b[0m\u001b[0;34m.\u001b[0m\u001b[0mregister\u001b[0m\u001b[0;34m(\u001b[0m\u001b[0;34m)\u001b[0m\u001b[0;34m\u001b[0m\u001b[0;34m\u001b[0m\u001b[0m\n",
      "\u001b[0;32m~/Desktop/sample_project/env/lib/python3.6/site-packages/tensorflow_core/python/eager/function.py\u001b[0m in \u001b[0;36mcall\u001b[0;34m(self, ctx, args, cancellation_manager)\u001b[0m\n\u001b[1;32m    509\u001b[0m               \u001b[0minputs\u001b[0m\u001b[0;34m=\u001b[0m\u001b[0margs\u001b[0m\u001b[0;34m,\u001b[0m\u001b[0;34m\u001b[0m\u001b[0;34m\u001b[0m\u001b[0m\n\u001b[1;32m    510\u001b[0m               \u001b[0mattrs\u001b[0m\u001b[0;34m=\u001b[0m\u001b[0;34m(\u001b[0m\u001b[0;34m\"executor_type\"\u001b[0m\u001b[0;34m,\u001b[0m \u001b[0mexecutor_type\u001b[0m\u001b[0;34m,\u001b[0m \u001b[0;34m\"config_proto\"\u001b[0m\u001b[0;34m,\u001b[0m \u001b[0mconfig\u001b[0m\u001b[0;34m)\u001b[0m\u001b[0;34m,\u001b[0m\u001b[0;34m\u001b[0m\u001b[0;34m\u001b[0m\u001b[0m\n\u001b[0;32m--> 511\u001b[0;31m               ctx=ctx)\n\u001b[0m\u001b[1;32m    512\u001b[0m         \u001b[0;32melse\u001b[0m\u001b[0;34m:\u001b[0m\u001b[0;34m\u001b[0m\u001b[0;34m\u001b[0m\u001b[0m\n\u001b[1;32m    513\u001b[0m           outputs = execute.execute_with_cancellation(\n",
      "\u001b[0;32m~/Desktop/sample_project/env/lib/python3.6/site-packages/tensorflow_core/python/eager/execute.py\u001b[0m in \u001b[0;36mquick_execute\u001b[0;34m(op_name, num_outputs, inputs, attrs, ctx, name)\u001b[0m\n\u001b[1;32m     59\u001b[0m     tensors = pywrap_tensorflow.TFE_Py_Execute(ctx._handle, device_name,\n\u001b[1;32m     60\u001b[0m                                                \u001b[0mop_name\u001b[0m\u001b[0;34m,\u001b[0m \u001b[0minputs\u001b[0m\u001b[0;34m,\u001b[0m \u001b[0mattrs\u001b[0m\u001b[0;34m,\u001b[0m\u001b[0;34m\u001b[0m\u001b[0;34m\u001b[0m\u001b[0m\n\u001b[0;32m---> 61\u001b[0;31m                                                num_outputs)\n\u001b[0m\u001b[1;32m     62\u001b[0m   \u001b[0;32mexcept\u001b[0m \u001b[0mcore\u001b[0m\u001b[0;34m.\u001b[0m\u001b[0m_NotOkStatusException\u001b[0m \u001b[0;32mas\u001b[0m \u001b[0me\u001b[0m\u001b[0;34m:\u001b[0m\u001b[0;34m\u001b[0m\u001b[0;34m\u001b[0m\u001b[0m\n\u001b[1;32m     63\u001b[0m     \u001b[0;32mif\u001b[0m \u001b[0mname\u001b[0m \u001b[0;32mis\u001b[0m \u001b[0;32mnot\u001b[0m \u001b[0;32mNone\u001b[0m\u001b[0;34m:\u001b[0m\u001b[0;34m\u001b[0m\u001b[0;34m\u001b[0m\u001b[0m\n",
      "\u001b[0;31mKeyboardInterrupt\u001b[0m: "
     ]
    }
   ],
   "source": [
    "training_sentences, testing_sentences, training_labels, testing_labels = train_test_split(description, title_encoded, test_size=0.2)\n",
    "\n",
    "max_length = 5000\n",
    "\n",
    "# Preparing the data\n",
    "tokenizer = Tokenizer(num_words=vocab_size, oov_token=oov_tok)\n",
    "tokenizer.fit_on_texts(training_sentences)\n",
    "\n",
    "word_index = tokenizer.word_index\n",
    "\n",
    "training_sequences = tokenizer.texts_to_sequences(training_sentences)\n",
    "training_padded = pad_sequences(training_sequences, maxlen=max_length, padding=padding_type, truncating=trunc_type)\n",
    "\n",
    "testing_sequences = tokenizer.texts_to_sequences(testing_sentences)\n",
    "testing_padded = pad_sequences(testing_sequences, maxlen=max_length, padding=padding_type, truncating=trunc_type)\n",
    "\n",
    "training_padded = np.array(training_padded)\n",
    "training_labels = np.array(training_labels)\n",
    "testing_padded = np.array(testing_padded)\n",
    "testing_labels = np.array(testing_labels)\n",
    "\n",
    "# Creating the model\n",
    "model = tf.keras.Sequential([\n",
    "    tf.keras.layers.Embedding(vocab_size, embedding_dim, input_length=max_length),\n",
    "    tf.keras.layers.GlobalAveragePooling1D(),\n",
    "    tf.keras.layers.Dense(1024, activation='relu'),\n",
    "    tf.keras.layers.Dense(1024, activation='relu'),\n",
    "    tf.keras.layers.Dense(1024, activation='relu'),\n",
    "    tf.keras.layers.Dense(512, activation='relu'),\n",
    "    tf.keras.layers.Dense(7274, activation='softmax')\n",
    "])\n",
    "model.compile(loss='sparse_categorical_crossentropy',optimizer='adam',metrics=['accuracy'])\n",
    "num_epochs = 100\n",
    "history = model.fit(training_padded, training_labels, epochs=num_epochs, validation_data=(testing_padded, testing_labels), verbose=2)"
   ]
  },
  {
   "cell_type": "markdown",
   "id": "4faacc12",
   "metadata": {},
   "source": [
    "## Deduction: we should keep around 3 layers with 128 or 512 neurons each"
   ]
  },
  {
   "cell_type": "code",
   "execution_count": 110,
   "id": "93c67fba",
   "metadata": {},
   "outputs": [
    {
     "name": "stdout",
     "output_type": "stream",
     "text": [
      "Train on 8000 samples, validate on 2000 samples\n",
      "Epoch 1/20\n",
      "8000/8000 - 31s - loss: 8.7581 - accuracy: 0.0224 - val_loss: 8.5712 - val_accuracy: 0.0190\n",
      "Epoch 2/20\n",
      "8000/8000 - 29s - loss: 8.2186 - accuracy: 0.0225 - val_loss: 8.6600 - val_accuracy: 0.0190\n",
      "Epoch 3/20\n",
      "8000/8000 - 29s - loss: 8.0734 - accuracy: 0.0236 - val_loss: 9.0442 - val_accuracy: 0.0190\n",
      "Epoch 4/20\n",
      "8000/8000 - 30s - loss: 7.9649 - accuracy: 0.0370 - val_loss: 9.3237 - val_accuracy: 0.0375\n",
      "Epoch 5/20\n",
      "8000/8000 - 29s - loss: 7.8319 - accuracy: 0.0479 - val_loss: 9.8384 - val_accuracy: 0.0460\n",
      "Epoch 6/20\n",
      "8000/8000 - 29s - loss: 7.6842 - accuracy: 0.0549 - val_loss: 10.3847 - val_accuracy: 0.0505\n",
      "Epoch 7/20\n",
      "8000/8000 - 29s - loss: 7.5398 - accuracy: 0.0578 - val_loss: 11.2368 - val_accuracy: 0.0510\n",
      "Epoch 8/20\n",
      "8000/8000 - 30s - loss: 7.4179 - accuracy: 0.0589 - val_loss: 11.7135 - val_accuracy: 0.0475\n",
      "Epoch 9/20\n",
      "8000/8000 - 29s - loss: 7.3046 - accuracy: 0.0615 - val_loss: 12.2947 - val_accuracy: 0.0495\n",
      "Epoch 10/20\n",
      "8000/8000 - 29s - loss: 7.2062 - accuracy: 0.0651 - val_loss: 12.6157 - val_accuracy: 0.0535\n",
      "Epoch 11/20\n",
      "8000/8000 - 30s - loss: 7.1168 - accuracy: 0.0685 - val_loss: 13.4364 - val_accuracy: 0.0635\n",
      "Epoch 12/20\n",
      "8000/8000 - 32s - loss: 7.0160 - accuracy: 0.0709 - val_loss: 14.0219 - val_accuracy: 0.0610\n",
      "Epoch 13/20\n",
      "8000/8000 - 32s - loss: 6.9526 - accuracy: 0.0719 - val_loss: 14.2714 - val_accuracy: 0.0650\n",
      "Epoch 14/20\n",
      "8000/8000 - 33s - loss: 6.8625 - accuracy: 0.0731 - val_loss: 15.0974 - val_accuracy: 0.0700\n",
      "Epoch 15/20\n",
      "8000/8000 - 37s - loss: 6.8139 - accuracy: 0.0747 - val_loss: 15.5737 - val_accuracy: 0.0680\n",
      "Epoch 16/20\n",
      "8000/8000 - 44s - loss: 6.7367 - accuracy: 0.0771 - val_loss: 16.2968 - val_accuracy: 0.0650\n",
      "Epoch 17/20\n",
      "8000/8000 - 39s - loss: 6.6841 - accuracy: 0.0744 - val_loss: 17.1222 - val_accuracy: 0.0660\n",
      "Epoch 18/20\n",
      "8000/8000 - 35s - loss: 6.6315 - accuracy: 0.0772 - val_loss: 17.5948 - val_accuracy: 0.0720\n",
      "Epoch 19/20\n",
      "8000/8000 - 32s - loss: 6.5793 - accuracy: 0.0780 - val_loss: 17.9618 - val_accuracy: 0.0715\n",
      "Epoch 20/20\n",
      "8000/8000 - 30s - loss: 6.5324 - accuracy: 0.0772 - val_loss: 18.6054 - val_accuracy: 0.0670\n"
     ]
    }
   ],
   "source": [
    "model = tf.keras.Sequential([\n",
    "    tf.keras.layers.Embedding(vocab_size, embedding_dim, input_length=max_length),\n",
    "    tf.keras.layers.GlobalAveragePooling1D(),\n",
    "    tf.keras.layers.Dense(512, activation='relu'),\n",
    "    tf.keras.layers.Dense(512, activation='relu'),\n",
    "    tf.keras.layers.Dense(512, activation='relu'),\n",
    "    tf.keras.layers.Dense(7274, activation='softmax')\n",
    "])\n",
    "model.compile(loss='sparse_categorical_crossentropy',optimizer='adam',metrics=['accuracy'])\n",
    "num_epochs = 20\n",
    "history = model.fit(training_padded, training_labels, epochs=num_epochs, validation_data=(testing_padded, testing_labels), verbose=2)"
   ]
  },
  {
   "cell_type": "code",
   "execution_count": 111,
   "id": "8002065c",
   "metadata": {},
   "outputs": [
    {
     "name": "stdout",
     "output_type": "stream",
     "text": [
      "Retail Wireless Sales Consultant  -------------  Retail Wireless Sales Consultant\n",
      "Maintenance Technician  -------------  TELEMARKETERS!DP7625797  Quick Hire Immediate Openings! Day and\n",
      "Assistant Manager  -------------  AREA MANAGER\n",
      "Maintenance Technician  -------------  Admin Processor, ADT Commercial Operations (Nashville, TN)\n",
      "Administrative Assistant  -------------  Accounts Payable Clerk\n",
      "Administrative Assistant  -------------  Inside Sales\n",
      "Administrative Assistant  -------------  Recruiter\n",
      "Mechanical Engineer  -------------  CNC HAAS setup/programmer\n",
      "Mechanical Engineer  -------------  Regional Safety Manager - Dallas, TX\n",
      "Administrative Assistant  -------------  Senior Accounting Analyst\n",
      "Home Health Aides (HHAs) and CNAs  -------------  Macy's Hillsdale, San Mateo, CA: Retail Cosmetics Sales - Beauty\n",
      "Mechanical Engineer  -------------  Staff Nurse – RN\n",
      "Nurses (RN or LPN) for Home Care  -------------  Staff RN - 8900 Pulmonary Progressive Care Unit\n",
      "Administrative Assistant  -------------  Collections Coordinator-Orlando\n",
      "Administrative Assistant  -------------  Phlebotomist\n",
      "Administrative Assistant  -------------  Macy's Tukwila Furniture Clearance, Tukwila, WA: Administrative\n",
      "Administrative Assistant  -------------  MARKETING/MANAGEMENT/PUBLIC RELATIONS\n",
      "Java Developer  -------------  Occupational Therapists-Sign On Bonus\n",
      "Mechanical Engineer  -------------  Macy's Broadway Plaza, Walnut Creek, CA: Retail Sales Associate,\n",
      "Maintenance Technician  -------------  JOB FAIR\n"
     ]
    }
   ],
   "source": [
    "import random\n",
    "x = random.randint(0, 9999)\n",
    "description[x], title[x]\n",
    "\n",
    "for i in range(20):\n",
    "    x = random.randint(0, 9999)\n",
    "    tmp_description = [description[x]]\n",
    "    tmp_token = tokenizer.texts_to_sequences(tmp_description)\n",
    "    tmp_pad = pad_sequences(tmp_token, maxlen=max_length, padding=padding_type, truncating=trunc_type)\n",
    "    tmp_pad = np.array(tmp_pad)\n",
    "\n",
    "    print(label_encoder.inverse_transform([np.argmax(model.predict(tmp_pad))])[0], ' ------------- ',title[x])"
   ]
  },
  {
   "cell_type": "code",
   "execution_count": 17,
   "id": "53736cc7",
   "metadata": {},
   "outputs": [
    {
     "data": {
      "text/plain": [
       "SVC(kernel='linear')"
      ]
     },
     "execution_count": 17,
     "metadata": {},
     "output_type": "execute_result"
    }
   ],
   "source": [
    "from sklearn.svm import SVC\n",
    "svclassifier = SVC(kernel='linear')\n",
    "svclassifier.fit(training_padded, training_labels)"
   ]
  },
  {
   "cell_type": "code",
   "execution_count": 21,
   "id": "40feb34a",
   "metadata": {},
   "outputs": [],
   "source": [
    "y_pred = svclassifier.predict(testing_padded)"
   ]
  },
  {
   "cell_type": "code",
   "execution_count": 22,
   "id": "e59beb43",
   "metadata": {},
   "outputs": [
    {
     "data": {
      "text/plain": [
       "(array([5632, 3099, 1629, ..., 4782, 2304, 6855]),\n",
       " array([5632, 7047,  802, ..., 4782, 2304, 3252]))"
      ]
     },
     "execution_count": 22,
     "metadata": {},
     "output_type": "execute_result"
    }
   ],
   "source": [
    "y_pred, testing_labels"
   ]
  },
  {
   "cell_type": "code",
   "execution_count": 23,
   "id": "60fa027f",
   "metadata": {},
   "outputs": [
    {
     "data": {
      "text/plain": [
       "0.135"
      ]
     },
     "execution_count": 23,
     "metadata": {},
     "output_type": "execute_result"
    }
   ],
   "source": [
    "from sklearn.metrics import accuracy_score\n",
    "accuracy_score(testing_labels, y_pred)"
   ]
  },
  {
   "cell_type": "code",
   "execution_count": 29,
   "id": "94173db8",
   "metadata": {},
   "outputs": [
    {
     "data": {
      "text/plain": [
       "0.0705"
      ]
     },
     "execution_count": 29,
     "metadata": {},
     "output_type": "execute_result"
    }
   ],
   "source": [
    "svc = SVC(kernel = 'poly')\n",
    "svc.fit(training_padded, training_labels)\n",
    "y_pred = svc.predict(testing_padded)\n",
    "accuracy_score(testing_labels, y_pred)"
   ]
  },
  {
   "cell_type": "code",
   "execution_count": 30,
   "id": "373a678f",
   "metadata": {},
   "outputs": [
    {
     "data": {
      "text/plain": [
       "0.091"
      ]
     },
     "execution_count": 30,
     "metadata": {},
     "output_type": "execute_result"
    }
   ],
   "source": [
    "svc = SVC(kernel = 'sigmoid')\n",
    "svc.fit(training_padded, training_labels)\n",
    "y_pred = svc.predict(testing_padded)\n",
    "accuracy_score(testing_labels, y_pred)"
   ]
  },
  {
   "cell_type": "code",
   "execution_count": 31,
   "id": "df6fa491",
   "metadata": {},
   "outputs": [
    {
     "data": {
      "text/plain": [
       "0.1135"
      ]
     },
     "execution_count": 31,
     "metadata": {},
     "output_type": "execute_result"
    }
   ],
   "source": [
    "svc = SVC(kernel = 'rbf')\n",
    "svc.fit(training_padded, training_labels)\n",
    "y_pred = svc.predict(testing_padded)\n",
    "accuracy_score(testing_labels, y_pred)"
   ]
  },
  {
   "cell_type": "code",
   "execution_count": null,
   "id": "c14d7ca0",
   "metadata": {},
   "outputs": [],
   "source": [
    "from sklearn.ensemble import RandomForestClassifier\n",
    "rfc = RandomForestClassifier()\n",
    "rfc.fit(training_padded, training_labels)\n",
    "y_pred = rfc.predict(testing_padded)\n",
    "accuracy_score(testing_labels, y_pred)"
   ]
  },
  {
   "cell_type": "markdown",
   "id": "755b356e",
   "metadata": {},
   "source": [
    "## Training Model from 50k-60k"
   ]
  },
  {
   "cell_type": "code",
   "execution_count": 17,
   "id": "53d55046",
   "metadata": {},
   "outputs": [],
   "source": [
    "start_train, end_train = 50001, 60000"
   ]
  },
  {
   "cell_type": "code",
   "execution_count": 18,
   "id": "789ff692",
   "metadata": {},
   "outputs": [],
   "source": [
    "description = np.array(jobs['DescCleaned'])[start_train:end_train]\n",
    "requirements = np.array(jobs['ReqCleaned'])[start_train:end_train]\n",
    "title = np.array(jobs['Title'])[start_train:end_train]\n",
    "\n",
    "target = title\n",
    "label_encoder = LabelEncoder()\n",
    "title_encoded = np.array(label_encoder.fit_transform(target))\n",
    "title_encoded[:5], len(title_encoded)\n",
    "\n",
    "training_sentences, testing_sentences, training_labels, testing_labels = train_test_split(description, title_encoded, test_size=0.2)\n",
    "\n",
    "tokenizer = Tokenizer(num_words=vocab_size, oov_token=oov_tok)\n",
    "tokenizer.fit_on_texts(training_sentences)\n",
    "\n",
    "word_index = tokenizer.word_index\n",
    "\n",
    "training_sequences = tokenizer.texts_to_sequences(training_sentences)\n",
    "training_padded = pad_sequences(training_sequences, maxlen=max_length, padding=padding_type, truncating=trunc_type)\n",
    "\n",
    "testing_sequences = tokenizer.texts_to_sequences(testing_sentences)\n",
    "testing_padded = pad_sequences(testing_sequences, maxlen=max_length, padding=padding_type, truncating=trunc_type)\n",
    "\n",
    "training_padded = np.array(training_padded)\n",
    "training_labels = np.array(training_labels)\n",
    "testing_padded = np.array(testing_padded)\n",
    "testing_labels = np.array(testing_labels)"
   ]
  },
  {
   "cell_type": "code",
   "execution_count": 25,
   "id": "ff6ccd8e",
   "metadata": {},
   "outputs": [],
   "source": [
    "# from sklearn.svm import SVC\n",
    "# svc = SVC(kernel = 'linear')\n",
    "# svc.fit(training_padded, training_labels)\n",
    "# y_pred = svc.predict(testing_padded)"
   ]
  },
  {
   "cell_type": "code",
   "execution_count": 21,
   "id": "722aa009",
   "metadata": {},
   "outputs": [
    {
     "data": {
      "text/plain": [
       "0.2125"
      ]
     },
     "execution_count": 21,
     "metadata": {},
     "output_type": "execute_result"
    }
   ],
   "source": [
    "from sklearn.metrics import accuracy_score\n",
    "accuracy_score(testing_labels, y_pred)"
   ]
  },
  {
   "cell_type": "markdown",
   "id": "a5a5382f",
   "metadata": {},
   "source": [
    "## Training data from 520k - 530k"
   ]
  },
  {
   "cell_type": "code",
   "execution_count": 22,
   "id": "ada46985",
   "metadata": {},
   "outputs": [],
   "source": [
    "start_train, end_train = 520001, 530000"
   ]
  },
  {
   "cell_type": "code",
   "execution_count": 23,
   "id": "0c9bda0c",
   "metadata": {},
   "outputs": [],
   "source": [
    "description = np.array(jobs['DescCleaned'])[start_train:end_train]\n",
    "requirements = np.array(jobs['ReqCleaned'])[start_train:end_train]\n",
    "title = np.array(jobs['Title'])[start_train:end_train]\n",
    "\n",
    "target = title\n",
    "label_encoder = LabelEncoder()\n",
    "title_encoded = np.array(label_encoder.fit_transform(target))\n",
    "title_encoded[:5], len(title_encoded)\n",
    "\n",
    "training_sentences, testing_sentences, training_labels, testing_labels = train_test_split(description, title_encoded, test_size=0.2)\n",
    "\n",
    "tokenizer = Tokenizer(num_words=vocab_size, oov_token=oov_tok)\n",
    "tokenizer.fit_on_texts(training_sentences)\n",
    "\n",
    "word_index = tokenizer.word_index\n",
    "\n",
    "training_sequences = tokenizer.texts_to_sequences(training_sentences)\n",
    "training_padded = pad_sequences(training_sequences, maxlen=max_length, padding=padding_type, truncating=trunc_type)\n",
    "\n",
    "testing_sequences = tokenizer.texts_to_sequences(testing_sentences)\n",
    "testing_padded = pad_sequences(testing_sequences, maxlen=max_length, padding=padding_type, truncating=trunc_type)\n",
    "\n",
    "training_padded = np.array(training_padded)\n",
    "training_labels = np.array(training_labels)\n",
    "testing_padded = np.array(testing_padded)\n",
    "testing_labels = np.array(testing_labels)"
   ]
  },
  {
   "cell_type": "code",
   "execution_count": 24,
   "id": "aadbfdc8",
   "metadata": {},
   "outputs": [
    {
     "data": {
      "text/plain": [
       "0.114"
      ]
     },
     "execution_count": 24,
     "metadata": {},
     "output_type": "execute_result"
    }
   ],
   "source": [
    "svc = SVC(kernel = 'linear')\n",
    "svc.fit(training_padded, training_labels)\n",
    "y_pred = svc.predict(testing_padded)\n",
    "accuracy_score(testing_labels, y_pred)"
   ]
  },
  {
   "cell_type": "markdown",
   "id": "4d6688fe",
   "metadata": {},
   "source": [
    "## Working on top labels (62) with 500 or more samples"
   ]
  },
  {
   "cell_type": "code",
   "execution_count": 38,
   "id": "c73401be",
   "metadata": {
    "scrolled": true
   },
   "outputs": [
    {
     "data": {
      "text/html": [
       "<div>\n",
       "<style scoped>\n",
       "    .dataframe tbody tr th:only-of-type {\n",
       "        vertical-align: middle;\n",
       "    }\n",
       "\n",
       "    .dataframe tbody tr th {\n",
       "        vertical-align: top;\n",
       "    }\n",
       "\n",
       "    .dataframe thead th {\n",
       "        text-align: right;\n",
       "    }\n",
       "</style>\n",
       "<table border=\"1\" class=\"dataframe\">\n",
       "  <thead>\n",
       "    <tr style=\"text-align: right;\">\n",
       "      <th></th>\n",
       "      <th>Title</th>\n",
       "    </tr>\n",
       "  </thead>\n",
       "  <tbody>\n",
       "    <tr>\n",
       "      <th>Administrative Assistant</th>\n",
       "      <td>3258</td>\n",
       "    </tr>\n",
       "    <tr>\n",
       "      <th>Customer Service Representative</th>\n",
       "      <td>3088</td>\n",
       "    </tr>\n",
       "    <tr>\n",
       "      <th>Retail Wireless Sales Consultant</th>\n",
       "      <td>2893</td>\n",
       "    </tr>\n",
       "    <tr>\n",
       "      <th>Retail Sales Associate</th>\n",
       "      <td>2609</td>\n",
       "    </tr>\n",
       "    <tr>\n",
       "      <th>Sales / Customer Service – Part or Full time – Summer Work</th>\n",
       "      <td>2417</td>\n",
       "    </tr>\n",
       "    <tr>\n",
       "      <th>Staff Accountant</th>\n",
       "      <td>2340</td>\n",
       "    </tr>\n",
       "    <tr>\n",
       "      <th>Jani-King Franchise Business Opportunity</th>\n",
       "      <td>2183</td>\n",
       "    </tr>\n",
       "    <tr>\n",
       "      <th>Customer Service - Sales Representative - Part Time Work</th>\n",
       "      <td>1823</td>\n",
       "    </tr>\n",
       "    <tr>\n",
       "      <th>Project Manager</th>\n",
       "      <td>1720</td>\n",
       "    </tr>\n",
       "    <tr>\n",
       "      <th>Senior Accountant</th>\n",
       "      <td>1700</td>\n",
       "    </tr>\n",
       "    <tr>\n",
       "      <th>Sales Management Trainee</th>\n",
       "      <td>1584</td>\n",
       "    </tr>\n",
       "    <tr>\n",
       "      <th>Inside Sales Representative</th>\n",
       "      <td>1374</td>\n",
       "    </tr>\n",
       "    <tr>\n",
       "      <th>Business Analyst</th>\n",
       "      <td>1368</td>\n",
       "    </tr>\n",
       "    <tr>\n",
       "      <th>Sales Representative</th>\n",
       "      <td>1324</td>\n",
       "    </tr>\n",
       "    <tr>\n",
       "      <th>Maintenance Technician</th>\n",
       "      <td>1314</td>\n",
       "    </tr>\n",
       "    <tr>\n",
       "      <th>Financial Analyst</th>\n",
       "      <td>1230</td>\n",
       "    </tr>\n",
       "    <tr>\n",
       "      <th>Receptionist</th>\n",
       "      <td>1223</td>\n",
       "    </tr>\n",
       "    <tr>\n",
       "      <th>Store Manager</th>\n",
       "      <td>1217</td>\n",
       "    </tr>\n",
       "    <tr>\n",
       "      <th>Executive Assistant</th>\n",
       "      <td>1193</td>\n",
       "    </tr>\n",
       "    <tr>\n",
       "      <th>Assistant Manager</th>\n",
       "      <td>1111</td>\n",
       "    </tr>\n",
       "    <tr>\n",
       "      <th>Accounting Clerk</th>\n",
       "      <td>1023</td>\n",
       "    </tr>\n",
       "    <tr>\n",
       "      <th>Java Developer</th>\n",
       "      <td>1015</td>\n",
       "    </tr>\n",
       "    <tr>\n",
       "      <th>Software Engineer</th>\n",
       "      <td>992</td>\n",
       "    </tr>\n",
       "    <tr>\n",
       "      <th>Accounts Payable Clerk</th>\n",
       "      <td>953</td>\n",
       "    </tr>\n",
       "    <tr>\n",
       "      <th>Restaurant Manager</th>\n",
       "      <td>933</td>\n",
       "    </tr>\n",
       "    <tr>\n",
       "      <th>Controller</th>\n",
       "      <td>922</td>\n",
       "    </tr>\n",
       "    <tr>\n",
       "      <th>Automotive Technician</th>\n",
       "      <td>904</td>\n",
       "    </tr>\n",
       "    <tr>\n",
       "      <th>Manufacturing Engineer</th>\n",
       "      <td>883</td>\n",
       "    </tr>\n",
       "    <tr>\n",
       "      <th>Physical Therapist</th>\n",
       "      <td>850</td>\n",
       "    </tr>\n",
       "    <tr>\n",
       "      <th>General Manager</th>\n",
       "      <td>848</td>\n",
       "    </tr>\n",
       "  </tbody>\n",
       "</table>\n",
       "</div>"
      ],
      "text/plain": [
       "                                                    Title\n",
       "Administrative Assistant                             3258\n",
       "Customer Service Representative                      3088\n",
       "Retail Wireless Sales Consultant                     2893\n",
       "Retail Sales Associate                               2609\n",
       "Sales / Customer Service – Part or Full time – ...   2417\n",
       "Staff Accountant                                     2340\n",
       "Jani-King Franchise Business Opportunity             2183\n",
       "Customer Service - Sales Representative - Part ...   1823\n",
       "Project Manager                                      1720\n",
       "Senior Accountant                                    1700\n",
       "Sales Management Trainee                             1584\n",
       "Inside Sales Representative                          1374\n",
       "Business Analyst                                     1368\n",
       "Sales Representative                                 1324\n",
       "Maintenance Technician                               1314\n",
       "Financial Analyst                                    1230\n",
       "Receptionist                                         1223\n",
       "Store Manager                                        1217\n",
       "Executive Assistant                                  1193\n",
       "Assistant Manager                                    1111\n",
       "Accounting Clerk                                     1023\n",
       "Java Developer                                       1015\n",
       "Software Engineer                                     992\n",
       "Accounts Payable Clerk                                953\n",
       "Restaurant Manager                                    933\n",
       "Controller                                            922\n",
       "Automotive Technician                                 904\n",
       "Manufacturing Engineer                                883\n",
       "Physical Therapist                                    850\n",
       "General Manager                                       848"
      ]
     },
     "execution_count": 38,
     "metadata": {},
     "output_type": "execute_result"
    }
   ],
   "source": [
    "pd.DataFrame(jobs['Title'].value_counts())[:30]"
   ]
  },
  {
   "cell_type": "code",
   "execution_count": 44,
   "id": "f845157e",
   "metadata": {},
   "outputs": [
    {
     "data": {
      "text/plain": [
       "{'Administrative Assistant': 3258,\n",
       " 'Customer Service Representative': 3088,\n",
       " 'Retail Wireless Sales Consultant': 2893,\n",
       " 'Retail Sales Associate': 2609,\n",
       " 'Sales / Customer Service – Part or Full time – Summer Work': 2417,\n",
       " 'Staff Accountant': 2340,\n",
       " 'Jani-King Franchise Business Opportunity': 2183,\n",
       " 'Customer Service - Sales Representative - Part Time Work': 1823,\n",
       " 'Project Manager': 1720,\n",
       " 'Senior Accountant': 1700,\n",
       " 'Sales Management Trainee': 1584,\n",
       " 'Inside Sales Representative': 1374,\n",
       " 'Business Analyst': 1368,\n",
       " 'Sales Representative': 1324,\n",
       " 'Maintenance Technician': 1314,\n",
       " 'Financial Analyst': 1230,\n",
       " 'Receptionist': 1223,\n",
       " 'Store Manager': 1217,\n",
       " 'Executive Assistant': 1193,\n",
       " 'Assistant Manager': 1111,\n",
       " 'Accounting Clerk': 1023,\n",
       " 'Java Developer': 1015,\n",
       " 'Software Engineer': 992,\n",
       " 'Accounts Payable Clerk': 953,\n",
       " 'Restaurant Manager': 933,\n",
       " 'Controller': 922,\n",
       " 'Automotive Technician': 904,\n",
       " 'Manufacturing Engineer': 883,\n",
       " 'Physical Therapist': 850,\n",
       " 'General Manager': 848,\n",
       " 'Quality Engineer': 813,\n",
       " 'Account Executive': 805,\n",
       " 'CNC Machinist': 797,\n",
       " 'Mechanical Engineer': 789,\n",
       " 'Network Engineer': 761,\n",
       " 'Web Developer': 761,\n",
       " 'Registered Nurse': 752,\n",
       " 'Maintenance Mechanic': 741,\n",
       " 'Bookkeeper': 736,\n",
       " 'Welder': 722,\n",
       " 'Senior Financial Analyst': 706,\n",
       " 'Electrical Engineer': 704,\n",
       " 'Account Manager': 704,\n",
       " 'Occupational Therapist': 697,\n",
       " 'Systems Administrator': 693,\n",
       " 'Outside Sales Representative': 683,\n",
       " 'Accountant': 661,\n",
       " 'Sales Representatives for Avon': 657,\n",
       " 'Sales Consultant': 657,\n",
       " 'Accounting Manager': 653,\n",
       " 'Machine Operator': 648,\n",
       " 'Sales-Senior Territory Manager-Earn $75,000+': 595,\n",
       " 'Production Supervisor': 586,\n",
       " 'Recruiter': 585,\n",
       " 'Sales Professional': 583,\n",
       " 'AVON Independent Sales Representative': 556,\n",
       " 'Systems Engineer': 534,\n",
       " 'Sales Associate': 528,\n",
       " 'Avon Sales Representatives': 526,\n",
       " 'Retail Wireless Consultant - Part Time': 515,\n",
       " 'Assistant Store Manager': 515,\n",
       " 'Retail Wireless Consultant': 515,\n",
       " 'Rep-Retail Sales': 497,\n",
       " 'Sales Manager': 496,\n",
       " 'Accounts Receivable Clerk': 496,\n",
       " 'Project Engineer': 492,\n",
       " 'Avon Representative': 489,\n",
       " 'Developer': 489,\n",
       " 'UPS Part Time Package Handler': 488,\n",
       " '.NET Developer': 483,\n",
       " 'Customer Delivery Teammate': 471,\n",
       " 'Legal Secretary': 461,\n",
       " 'Assistant Store Manager – Retail, Customer Service': 454,\n",
       " 'Process Engineer': 453,\n",
       " '.Net Developer': 448,\n",
       " 'Assembler': 445,\n",
       " 'Sales Representatives': 445,\n",
       " 'Data Entry Clerk': 441,\n",
       " 'Operations Manager': 436,\n",
       " 'Patient Care Technician': 426,\n",
       " 'Software Developer': 425,\n",
       " 'Technical Writer': 422,\n",
       " 'Cost Accountant': 418,\n",
       " 'Representative for Avon': 412,\n",
       " 'Inside Sales': 412,\n",
       " 'Customer Service': 409,\n",
       " 'Paralegal': 408,\n",
       " 'Network Administrator': 396,\n",
       " 'Office Manager': 396,\n",
       " 'Service Technician': 393,\n",
       " 'Maintenance Supervisor': 391,\n",
       " 'Program Manager': 376,\n",
       " 'Machinist': 375,\n",
       " 'Human Resources Manager': 373,\n",
       " 'Medical Assistant': 369,\n",
       " 'Phlebotomist': 369,\n",
       " 'Social Scientist - Human Terrain': 364,\n",
       " 'Accounts Payable Specialist': 362,\n",
       " 'Sales Representative - Route Sales': 362,\n",
       " 'Sales': 362,\n",
       " 'Project Coordinator': 362,\n",
       " 'Independent Sales Representative': 354,\n",
       " 'Payroll Administrator': 353,\n",
       " 'Buyer': 353,\n",
       " 'Assistant Controller': 352,\n",
       " 'RN': 351,\n",
       " 'Business Development Manager': 345,\n",
       " 'Branch Manager': 339,\n",
       " 'Payroll Specialist': 335,\n",
       " 'Graphic Designer': 334,\n",
       " 'Retail Sales Associate Bilingual': 328,\n",
       " 'Driver': 327,\n",
       " 'Data Analyst': 321,\n",
       " 'Business Systems Analyst': 318,\n",
       " 'Independent Sales Representative for Avon': 313,\n",
       " 'Cook': 312,\n",
       " 'Human Resources Assistant': 309,\n",
       " 'Mortgage Underwriter': 307,\n",
       " 'Agent in Training': 303,\n",
       " 'Office Assistant': 302,\n",
       " 'In Store Marketing Representatives': 302,\n",
       " 'Retail Store Manager Trainee': 299,\n",
       " 'Controls Engineer': 297,\n",
       " 'PCT': 295,\n",
       " 'Executive Administrative Assistant': 295,\n",
       " 'Design Engineer': 295,\n",
       " 'Mechanic': 294,\n",
       " 'Material Handler': 292,\n",
       " 'Collections Specialist': 292,\n",
       " 'Loan Processor': 292,\n",
       " 'Forklift Operator': 289,\n",
       " 'PHP Developer': 287,\n",
       " 'Director of Nursing': 284,\n",
       " 'Dental Assistant': 283,\n",
       " 'Human Resources Generalist': 283,\n",
       " 'CNC Programmer': 280,\n",
       " 'Marketing Manager': 279,\n",
       " 'Executive Director': 279,\n",
       " 'Mortgage Loan Processor': 275,\n",
       " 'Lab Technician': 273,\n",
       " 'Marketing Coordinator': 273,\n",
       " 'Full Charge Bookkeeper': 271,\n",
       " 'Diesel Mechanic': 270,\n",
       " 'Quality Manager': 270,\n",
       " 'Product Manager': 269,\n",
       " 'General Labor': 269,\n",
       " 'Sales – Insurance Sales Agent – Senior Sales Representative': 267,\n",
       " 'Systems Analyst': 262,\n",
       " 'Store Co-Manager': 261,\n",
       " 'Pharmacy Technician': 261,\n",
       " 'Programmer Analyst': 261,\n",
       " 'Client Service Coordinator': 258,\n",
       " 'Dispatcher': 257,\n",
       " 'Quality Inspector': 254,\n",
       " 'Branch Manager Trainee': 254,\n",
       " 'Electrician': 253,\n",
       " 'Production Manager': 253,\n",
       " 'General Production Worker': 253,\n",
       " 'Payroll Clerk': 252,\n",
       " 'Manager Trainee': 250,\n",
       " 'Database Administrator': 250,\n",
       " 'Customer Service Rep': 248,\n",
       " 'Mechanical Designer': 248,\n",
       " 'Mechanical Design Engineer': 246,\n",
       " 'Veterinary Assistant': 245,\n",
       " 'Call Center Representative': 243,\n",
       " 'Underwriter': 243,\n",
       " 'Delivery Driver': 238,\n",
       " 'Front Desk Coordinator': 236,\n",
       " 'Senior Software Engineer': 235,\n",
       " 'Maintenance Manager': 235,\n",
       " 'Customer Service Representatives': 234,\n",
       " 'Insurance Sales Representative (Outside Sales Rep / Agent)': 232,\n",
       " 'Desktop Support': 229,\n",
       " 'Retail Associate Manager': 227,\n",
       " 'Quality Assurance Manager': 227,\n",
       " 'Test Engineer': 225,\n",
       " 'Billing Clerk': 224,\n",
       " 'Retail Store Manager': 224,\n",
       " 'Accounts Payable': 223,\n",
       " 'Insurance Sales Agent': 223,\n",
       " 'Warehouse Supervisor': 222,\n",
       " 'Case Manager': 219,\n",
       " 'Restaurant General Manager': 218,\n",
       " 'Sales Assistant': 218,\n",
       " 'Management Consulting-Business Analyst': 217,\n",
       " 'MECHANIC': 217,\n",
       " 'HR Generalist': 217,\n",
       " 'Technician': 216,\n",
       " 'District Manager': 215,\n",
       " 'Field Service Technician': 214,\n",
       " 'Nurse Practitioner': 214,\n",
       " 'IT Project Manager': 214,\n",
       " 'Internal Auditor': 213,\n",
       " 'DRIVERS': 212,\n",
       " 'Earn $50+ A Week, Part Time: Market Research: All Qualify': 212,\n",
       " 'Part-time Customer Service Representative': 212,\n",
       " 'Service Manager': 211,\n",
       " 'Truck Driver Jobs - CDL Driver Training': 211,\n",
       " 'Property Manager': 211,\n",
       " 'Mechanical Assembler': 209,\n",
       " 'Warehouse Worker': 208,\n",
       " 'Retail Sales Leader': 207,\n",
       " 'Warehouse Associate': 206,\n",
       " 'Physical Therapist - PT': 206,\n",
       " 'Route Sales Representative Trainee - Food Sales Associate': 206,\n",
       " 'Housekeeper': 205,\n",
       " 'Marketing Assistant': 205,\n",
       " 'Accounting Assistant': 205,\n",
       " 'Territory Sales Representative-B2B-Earn $75,000+': 204,\n",
       " 'Admissions Representative': 204,\n",
       " 'Oracle DBA': 203,\n",
       " 'Sales Executive': 202,\n",
       " 'Administrative Support / Customer Service Opportunities': 201,\n",
       " 'PART - TIME OPPORTUNITIES': 201,\n",
       " 'Drivers': 199,\n",
       " 'Restaurant Assistant Manager': 197,\n",
       " 'TRUCK DRIVERS': 195,\n",
       " 'Purchasing Manager': 193,\n",
       " 'Help Desk': 193,\n",
       " 'LPN': 190,\n",
       " 'Leasing Consultant': 188,\n",
       " 'Technical Recruiter': 187,\n",
       " 'Regional Sales Manager': 185,\n",
       " 'Teller': 185,\n",
       " 'Speech Therapist': 184,\n",
       " 'Customer Service Manager': 184,\n",
       " 'Medical Billing Specialist': 184,\n",
       " 'Customer Service Teammate': 183,\n",
       " 'Medical Biller': 183,\n",
       " 'Certified Nursing Assistant': 183,\n",
       " 'Registered Nurse - RN': 181,\n",
       " 'Chemist': 180,\n",
       " 'Industrial Engineer': 180,\n",
       " 'Senior Project Manager': 179,\n",
       " 'Sales Engineer': 179,\n",
       " 'Senior Internal Auditor': 178,\n",
       " 'Credit Analyst': 178,\n",
       " '$ Entry-Level Sales Professional $': 178,\n",
       " 'Social Worker': 178,\n",
       " 'COMPUTERS & INFORMATION TECHNOLOGY OPPORTUNITIES': 178,\n",
       " 'Retail Sales Associate-Purchasing/Sales Representative (Selling)': 177,\n",
       " 'Restaurant General Manager / Assistant Manager': 177,\n",
       " 'Branch Sales Professional/Sales Representative - 4600': 177,\n",
       " 'Production Worker': 177,\n",
       " 'OTR Truck Driver – Class A CDL Driver – Auto Transportation': 177,\n",
       " 'Accounts Receivable Specialist': 176,\n",
       " 'Collector': 176,\n",
       " 'Mobile Consultant': 175,\n",
       " 'Legal Assistant': 175,\n",
       " 'Operations Supervisor': 174,\n",
       " 'Plant Manager': 174,\n",
       " 'Data Entry': 174,\n",
       " 'Mortgage Processor': 173,\n",
       " 'Recruiter/Sales Trainee': 172,\n",
       " 'State Farm Insurance and Financial Services Agent': 171,\n",
       " 'RN Team Leader': 170,\n",
       " 'Customer Service Rep.': 169,\n",
       " 'Embedded Software Engineer': 167,\n",
       " 'SQL Developer': 166,\n",
       " 'Manager': 164,\n",
       " 'SQL Server DBA': 164,\n",
       " 'Outside Sales': 164,\n",
       " 'Online Survey Taker: Earn Extra Cash': 163,\n",
       " 'Occupational Therapist - OT': 162,\n",
       " 'Service Advisor': 162,\n",
       " 'Senior Auditor': 162,\n",
       " 'Industrial Electrician': 162,\n",
       " 'Engineering Manager': 161,\n",
       " 'Senior Network Engineer': 161,\n",
       " 'Engineer': 160,\n",
       " 'Security Officer': 159,\n",
       " 'Sales Representative / Automotive Sales': 159,\n",
       " 'Web Designer': 158,\n",
       " 'Desktop Support Analyst': 158,\n",
       " 'Sales Associate Sales Representative Sales Professional': 157,\n",
       " 'Automotive Technician / Automotive Mechanic / Mid Level Tech': 157,\n",
       " 'FULL - TIME OPPORTUNITIES': 156,\n",
       " 'Accounting Manager/Supervisor': 154,\n",
       " 'Senior Business Analyst': 154,\n",
       " 'Senior Java Developer': 153,\n",
       " 'RN Case Manager': 153,\n",
       " 'Speech Language Pathologist': 152,\n",
       " 'Electronic Technician': 151,\n",
       " 'Finance Manager': 151,\n",
       " 'Quality Assurance Analyst': 151,\n",
       " '(BSRO) - Automotive Lead Technician': 151,\n",
       " 'Store Manager - RadioShack': 151,\n",
       " 'Application Developer': 151,\n",
       " 'Operations Expert': 151,\n",
       " 'Tax Manager': 150,\n",
       " 'Sales - Insurance Sales Agent Entry Level & Experienced Sales': 150,\n",
       " 'Wireless Sales Representative': 150,\n",
       " 'Server - Bartender - Host/Hostess - Cook - Busser - Dish/Utility': 149,\n",
       " 'Nurse Tech (CNA/STNA)': 149,\n",
       " 'Data Center Technician': 149,\n",
       " 'Financial Services Representative': 149,\n",
       " 'Insurance Sales Representative': 149,\n",
       " 'Medical Receptionist': 149,\n",
       " 'General Office Clerk': 148,\n",
       " 'District Sales Manager': 148,\n",
       " 'Specialty Sales Representative': 147,\n",
       " 'Pharmacist': 146,\n",
       " 'Human Resources Coordinator': 146,\n",
       " 'Warehouse': 146,\n",
       " 'Sr. Java Developer': 144,\n",
       " 'Sr. Financial Analyst': 144,\n",
       " 'Traditional Security Officer – Unarmed': 144,\n",
       " 'Estimator': 143,\n",
       " 'Account Representative': 142,\n",
       " 'Chief Financial Officer': 141,\n",
       " 'Quality Control Inspector': 140,\n",
       " 'System Administrator': 139,\n",
       " 'C# Developer': 138,\n",
       " 'CNC Operator': 138,\n",
       " 'Assistant Director of Nursing': 138,\n",
       " 'QA Tester': 138,\n",
       " 'SQL DBA': 137,\n",
       " 'Medical & Healthcare Opportunities': 137,\n",
       " 'Clinical Nurse, LPN': 137,\n",
       " 'Customer Service Specialist': 136,\n",
       " 'Retail Manager': 135,\n",
       " 'Loan Officer': 135,\n",
       " 'Direct Care Professional': 134,\n",
       " 'CNC Machine Operator': 134,\n",
       " 'Staffing Manager': 134,\n",
       " 'Network Technician': 134,\n",
       " 'QA Analyst': 133,\n",
       " 'Truck Driver - CDL Driver Training - Truck Driving Jobs': 133,\n",
       " 'Engineering Technician': 132,\n",
       " 'Medical Technologist': 132,\n",
       " 'Marketing Specialist': 132,\n",
       " 'Collections Representative': 132,\n",
       " 'Business Office Manager': 131,\n",
       " 'PUBLIC SAFETY - MILITARY POLICE / LAW ENFORCEMENT / FIREFIGHTERS': 131,\n",
       " 'Supplier Quality Engineer': 131,\n",
       " 'Cashier': 131,\n",
       " 'Warehouse Manager': 130,\n",
       " 'UPS Part Time Package Delivery Driver (no CDL required)': 130,\n",
       " 'Legal Service Consultant – Legal Consulting Sales Representative': 130,\n",
       " 'Dentist': 129,\n",
       " 'Sr. Accountant': 129,\n",
       " 'Structural Engineer': 129,\n",
       " 'Automotive Service Technician': 129,\n",
       " 'Quality Technician': 129,\n",
       " 'CDL- A Drivers': 128,\n",
       " 'Management Trainee': 128,\n",
       " 'Nursing Home Administrator': 127,\n",
       " 'ASSISTANT STORE MANAGER': 127,\n",
       " 'Payroll Manager': 126,\n",
       " 'Agency Sales Support': 126,\n",
       " 'Laboratory Technician': 126,\n",
       " 'Wireless Sales Manager - Target Mobile': 125,\n",
       " 'Sales Representative / General Line Automotive Sales': 125,\n",
       " 'Assembly': 125,\n",
       " 'Inpatient Services RN': 124,\n",
       " 'Accounts Receivable': 124,\n",
       " 'Product Engineer': 124,\n",
       " 'Senior Assistant Manager': 124,\n",
       " 'Shift Supervisor': 123,\n",
       " 'Human Resources Specialist': 123,\n",
       " 'Truck Driver': 120,\n",
       " 'Litigation Paralegal': 119,\n",
       " 'PT Sales Associate': 119,\n",
       " 'Clinical Nurse, RN': 119,\n",
       " 'Sales Coordinator': 119,\n",
       " 'Instructional Designer': 118,\n",
       " 'Sales - Service Advisor - Automotive': 118,\n",
       " 'Territory Manager': 118,\n",
       " 'SharePoint Developer': 118,\n",
       " 'Desktop Support Technician': 117,\n",
       " 'Quality Assurance Engineer': 117,\n",
       " 'Exclusive Agent': 117,\n",
       " 'Application Engineer': 117,\n",
       " 'Financial Representative': 117,\n",
       " 'Merchandiser': 117,\n",
       " 'Help Desk Technician': 117,\n",
       " 'Purchasing Agent': 117,\n",
       " 'Bilingual Customer Service Representative': 117,\n",
       " 'Contracts Administrator': 116,\n",
       " 'Designer': 116,\n",
       " 'Job Opportunities': 116,\n",
       " 'Class A CDL Drivers': 115,\n",
       " 'Franchise - Sales': 115,\n",
       " 'Social Scientists-Human Terrain': 115,\n",
       " 'Analyst': 115,\n",
       " 'Occupational Therapy Asst': 115,\n",
       " 'Accounting Specialist': 115,\n",
       " 'Financial Advisor': 114,\n",
       " 'Director of Admissions': 114,\n",
       " 'Tutors (Clinicians)': 114,\n",
       " 'Billing Specialist': 114,\n",
       " 'Assistant  Store Manager': 113,\n",
       " 'Licensed Practical Nurse': 113,\n",
       " 'Accountemps Staffing Manager': 113,\n",
       " 'Community Manager': 113,\n",
       " 'Inspector': 113,\n",
       " 'Project Assistant': 113,\n",
       " 'Physician Assistant': 113,\n",
       " 'Production Planner': 112,\n",
       " 'Escrow Assistant': 112,\n",
       " 'Registered Nurse (RN)': 112,\n",
       " 'Sr. Software Engineer': 112,\n",
       " 'Director of Operations': 111,\n",
       " 'Human Resource Generalist': 111,\n",
       " 'Sharepoint Developer': 110,\n",
       " 'Physical Therapy Asst': 110,\n",
       " 'Area Manager': 110,\n",
       " 'Sr. Project Manager': 110,\n",
       " 'QA Engineer': 110,\n",
       " 'Welders': 110,\n",
       " 'Insurance Agents': 110,\n",
       " 'Manual Machinist': 110,\n",
       " 'Corporate Recruiter': 109,\n",
       " 'Scheduler': 109,\n",
       " 'Restaurant Management': 109,\n",
       " 'Delivery Driver (Part Time)': 108,\n",
       " 'Real Estate Sales Representative / Real Estate Sales Rep (Sales)': 108,\n",
       " 'Automotive Sales': 108,\n",
       " 'General Laborer': 108,\n",
       " 'Driver - Dedicated Truck Driver - Class A CDL': 108,\n",
       " 'Clinical Nurse II': 108,\n",
       " 'Insurance Agent': 108,\n",
       " 'Property Accountant': 108,\n",
       " 'Pricing Analyst': 107,\n",
       " 'Recruiting Coordinator': 107,\n",
       " 'Senior Tax Accountant': 107,\n",
       " 'Automotive Technician / Automotive Mechanic / Master Level Tech': 106,\n",
       " 'Drafter': 106,\n",
       " 'Maintenance Electrician': 106,\n",
       " 'Electrical Designer': 106,\n",
       " 'Plant Controller': 105,\n",
       " 'IT Manager': 105,\n",
       " 'Technical Project Manager': 105,\n",
       " 'Assistant General Manager': 105,\n",
       " 'Clinical Research Coordinator': 105,\n",
       " 'Oncology Nurse Clinician': 104,\n",
       " 'Clinical Manager': 104,\n",
       " 'Maintenance Engineer': 104,\n",
       " 'test': 104,\n",
       " 'Assistant Store Manager - RadioShack': 104,\n",
       " 'Customer Care Representative': 104,\n",
       " 'Informatica Developer': 103,\n",
       " 'Corporate Paralegal': 103,\n",
       " 'Automotive Technician / Automotive Mechanic / General Line': 103,\n",
       " 'Licensed Practical Nurse - LPN': 103,\n",
       " 'Executive Recruiter': 103,\n",
       " 'Cable Technician': 103,\n",
       " 'MEDICAL & HEALTHCARE OPPORTUNITIES': 102,\n",
       " 'Materials Manager': 102,\n",
       " 'Center Manager': 102,\n",
       " 'Housekeeping Attendant': 101,\n",
       " 'Retail Sales Manager': 101,\n",
       " 'Human Resource Manager': 101,\n",
       " 'Guest Services Representative / Front Desk / Customer Service': 101,\n",
       " 'Copywriter': 101,\n",
       " 'Manufacturing Technician': 100,\n",
       " 'RN - Nurse Supervisor Job': 100,\n",
       " 'Senior Systems Engineer': 99,\n",
       " 'Public Safety - Military Police / Law Enforcement / Firefighters': 99,\n",
       " 'Accountant - Entry Level': 99,\n",
       " 'Field Service Engineer': 99,\n",
       " 'Fundraising Coordinator': 99,\n",
       " 'Audit Manager': 99,\n",
       " 'Newborn Photographer / Sales Rep': 99,\n",
       " 'Applications Engineer': 99,\n",
       " 'Quality Control Technician': 99,\n",
       " 'PHYSICAL THERAPIST': 99,\n",
       " 'Machine Operators': 98,\n",
       " 'MDS Coordinator': 98,\n",
       " 'Infrastructure Project Manager': 98,\n",
       " 'Construction Manager': 98,\n",
       " 'Assistant Property Manager': 98,\n",
       " 'Software Test Engineer': 98,\n",
       " 'MIG Welder': 98,\n",
       " 'Admissions Coordinator': 97,\n",
       " 'Retail Team Leaders': 97,\n",
       " 'Driver - Residential (Manual)': 97,\n",
       " 'Inside Sales Rep': 97,\n",
       " 'Executive Chef': 96,\n",
       " 'Office Administrator': 96,\n",
       " 'CDL- A Drivers - Owner Operators': 96,\n",
       " 'Maintenance': 96,\n",
       " 'Kitchen Manager': 96,\n",
       " 'Certified Nurse Assistant, CNA, Nurse Aide, Caregiver': 95,\n",
       " 'Insurance Sales Consultant - Insurance Agent & Service Advisor': 95,\n",
       " 'Sous Chef': 95,\n",
       " 'Sales Account Manager': 95,\n",
       " 'HR Manager': 95,\n",
       " 'Civil Engineer': 95,\n",
       " 'Tax Accountant': 95,\n",
       " 'Senior Staff Accountant': 95,\n",
       " 'Accounting Supervisor': 94,\n",
       " 'Dietary Aide': 94,\n",
       " 'A&P Mechanic': 94,\n",
       " 'Data Entry Specialist': 94,\n",
       " 'Full - Time Opportunities': 94,\n",
       " 'Residential Home Improvement Outside Sales Professional': 94,\n",
       " 'Senior Buyer': 93,\n",
       " 'Senior Software Developer': 93,\n",
       " 'Test Technician': 93,\n",
       " 'Sr. Business Analyst': 93,\n",
       " 'Veterinary Technician': 93,\n",
       " 'OfficeTeam Staffing Manager': 92,\n",
       " 'Customer Service Supervisor': 92,\n",
       " 'Sr. Network Engineer': 92,\n",
       " 'Painter': 92,\n",
       " 'Help Desk Analyst': 92,\n",
       " 'Quality Assurance Technician': 92,\n",
       " 'HVAC Technician': 91,\n",
       " 'HR Coordinator': 91,\n",
       " 'Business Manager': 91,\n",
       " 'Lab Technician - Dentures': 91,\n",
       " 'Avis Budget Group Now Hiring Rental Sales Associates!': 91,\n",
       " 'CDL Driver': 91,\n",
       " 'Educational Recruiter': 90,\n",
       " 'Quality Assurance Specialist': 90,\n",
       " 'Senior Mechanical Engineer': 90,\n",
       " 'Restaurant Team Member - Crew': 90,\n",
       " 'Residential Truck Driver- CDL- Excellent Benefits': 90,\n",
       " 'Insurance Sales - Agent': 90,\n",
       " 'Supply Chain Manager': 89,\n",
       " 'Payroll Coordinator': 89,\n",
       " 'Specimen Processor': 89,\n",
       " 'Physical Therapist / PT': 89,\n",
       " 'Technical Support Specialist': 88,\n",
       " 'Logistics Coordinator': 88,\n",
       " 'Retail Sales Representative': 88,\n",
       " 'Avionics Technician': 88,\n",
       " 'Marketing Analyst': 88,\n",
       " 'Programmer': 88,\n",
       " 'Purchasing': 88,\n",
       " 'Safety Manager': 87,\n",
       " 'Patient Care Coordinator': 87,\n",
       " 'Java/J2ee Developer': 87,\n",
       " 'Entry Level Sales': 87,\n",
       " 'Customer Service Associate': 87,\n",
       " 'Millwright': 87,\n",
       " 'Senior .NET Developer': 87,\n",
       " 'Forklift Driver': 87,\n",
       " 'Messenger /  Driver /  Armed Service Technician': 87,\n",
       " 'Customer Service - Full Time': 87,\n",
       " 'CNA': 86,\n",
       " 'RN - Registered Nurse': 86,\n",
       " 'Director of Finance': 86,\n",
       " 'Construction Project Manager': 86,\n",
       " 'j2ee Web Application Developer': 86,\n",
       " 'Oracle Developer': 86,\n",
       " 'Retail Manager - Buyer': 86,\n",
       " 'Account Exec - Business Sales': 86,\n",
       " 'Business/SQL Data Analyst': 85,\n",
       " 'CMM Programmer': 85,\n",
       " 'Automotive Sales Consultant': 85,\n",
       " 'Project Accountant': 85,\n",
       " 'Plumber': 85,\n",
       " 'Production': 85,\n",
       " 'ETL Developer': 85,\n",
       " 'Exclusive Agency Owner': 85,\n",
       " 'SQL Database Administrator': 85,\n",
       " 'Automotive Service Manager': 85,\n",
       " 'Human Resources Director': 85,\n",
       " 'Sales Representative / Automotive Sales / Senior Sales': 85,\n",
       " 'Shift Manager': 84,\n",
       " 'Retail Consultant': 84,\n",
       " 'Electrical Technician': 84,\n",
       " 'Analytical Chemist': 84,\n",
       " 'Microbiologist': 84,\n",
       " 'Dietitian': 84,\n",
       " 'Inventory Analyst': 84,\n",
       " 'Financial Reporting Manager': 84,\n",
       " 'Research Associate': 84,\n",
       " 'Sales Professionals': 84,\n",
       " 'Staffing Specialist': 82,\n",
       " 'Retail Customer Support Rep': 82,\n",
       " 'Supervisor': 82,\n",
       " 'SALES PROFESSIONAL': 82,\n",
       " 'Staffing Consultant': 82,\n",
       " 'ACCOUNT EXECUTIVE': 82,\n",
       " 'Occupational Therapist / OT': 82,\n",
       " 'Store Management': 82,\n",
       " 'Packaging Engineer': 82,\n",
       " 'Detailer': 82,\n",
       " 'Sr. QA Tester': 82,\n",
       " 'Electronics Technician': 81,\n",
       " 'Regional CRA': 81,\n",
       " 'Practice Manager': 81,\n",
       " 'Registered Nurse / RN': 81,\n",
       " 'Prior Authorizations Nurse (RN)': 81,\n",
       " 'Insurance Sales Agent / Insurance Sales Representative': 81,\n",
       " 'Network Analyst': 81,\n",
       " 'Medical Coder': 81,\n",
       " 'ADMINISTRATIVE ASSISTANT': 80,\n",
       " 'Technical Support': 80,\n",
       " 'Sr. PL/SQL Developer/Architect': 80,\n",
       " 'Heavy Equipment Operator': 80,\n",
       " 'Linux Administrator': 80,\n",
       " 'Manufacturing Supervisor': 80,\n",
       " 'Solutions Architect': 80,\n",
       " 'Interior Designer/Interior Design Sales Consultant': 79,\n",
       " 'Inventory Manager': 79,\n",
       " 'Certified Nursing Assistant / CNA': 79,\n",
       " 'Driver - Regional Truck Driver - Class A CDL': 79,\n",
       " 'Contract Recruiter': 79,\n",
       " 'Physical Therapy Assistant': 79,\n",
       " 'Staffing Coordinator': 79,\n",
       " 'District Manager - RadioShack': 79,\n",
       " 'Restaurant Manager Opportunities': 78,\n",
       " 'Validation Engineer': 78,\n",
       " 'Automotive Service Advisor': 78,\n",
       " 'Agent Network Associate': 78,\n",
       " 'TRUCK DRIVER- OTR RUN': 78,\n",
       " 'Sales Account Executive': 78,\n",
       " 'Call Center Supervisor': 78,\n",
       " 'Research Assistant': 78,\n",
       " 'Sales Associate - Full Time - RadioShack': 77,\n",
       " 'Security Engineer': 77,\n",
       " 'Director of Human Resources': 77,\n",
       " 'Sales Associate - Part Time': 77,\n",
       " 'Junior Accountant': 77,\n",
       " 'Assistant Manager - Collections': 77,\n",
       " 'Sales Associate - Part Time - RadioShack': 76,\n",
       " 'Electronic Assembler': 76,\n",
       " 'Marketing Representative': 76,\n",
       " 'Process Technician': 76,\n",
       " 'Real Estate Sales Associate': 76,\n",
       " 'Director of Sales': 76,\n",
       " 'Test Administrator': 76,\n",
       " 'Systems - Business Analyst': 76,\n",
       " 'Nurses for Pediatric Home Care': 75,\n",
       " 'Maintenance Tech': 75,\n",
       " 'Accounts Payable Supervisor': 75,\n",
       " 'Director of Marketing': 75,\n",
       " 'SALES': 75,\n",
       " 'Reliability Engineer': 75,\n",
       " 'PC Technician': 75,\n",
       " 'CUSTOMER SERVICE REPRESENTATIVE': 75,\n",
       " 'Superintendent': 74,\n",
       " 'Respiratory Therapist': 74,\n",
       " 'Administrator': 74,\n",
       " 'Front Desk Receptionist': 74,\n",
       " 'Retail Sales Teammate': 74,\n",
       " 'Restaurant Managers': 74,\n",
       " 'Purchasing Assistant': 74,\n",
       " 'Licensed Practical Nurse (LPN)': 74,\n",
       " 'Technical Support Representative': 74,\n",
       " 'File Clerk': 74,\n",
       " 'Maintenance Director': 74,\n",
       " 'Teammate (Solo)': 74,\n",
       " 'Upscale Security Officer – Unarmed': 74,\n",
       " 'Human Resources Recruiter': 73,\n",
       " 'Server - Bartender - Dish/Prep - Host/Hostess - Cooks - Utility': 73,\n",
       " 'Service Coordinator': 73,\n",
       " 'Nurse Manager': 73,\n",
       " 'HR Assistant': 73,\n",
       " 'Shipping Clerk': 73,\n",
       " 'Call Center Manager': 73,\n",
       " 'Territory Sales Manager': 72,\n",
       " 'Entry-Level Supervisor': 72,\n",
       " 'Neighborhood Sales Representative': 72,\n",
       " 'Technical Trainer': 72,\n",
       " 'Contract Administrator': 72,\n",
       " 'Front End Web Developer': 72,\n",
       " 'Data Architect': 72,\n",
       " 'Therapist': 72,\n",
       " 'Attorney': 72,\n",
       " 'Journeyman Electrician': 71,\n",
       " 'Truck Drivers': 71,\n",
       " 'Inventory Clerk': 71,\n",
       " 'Senior Account Executive': 71,\n",
       " 'Compensation Analyst': 71,\n",
       " 'Office Coordinator': 71,\n",
       " 'Residential Appraiser': 71,\n",
       " 'Driver - Roll Off': 71,\n",
       " 'Counselor': 71,\n",
       " 'Accounts Payable Coordinator': 71,\n",
       " 'Industrial Maintenance Mechanic': 70,\n",
       " 'Medical': 70,\n",
       " 'Direct Care Staff': 70,\n",
       " 'Class A CDL Driver': 70,\n",
       " 'Professional': 70,\n",
       " 'Robert Half Technology Account Executive Business Development (C': 70,\n",
       " 'Production Associate': 70,\n",
       " 'C++ Developer': 70,\n",
       " 'Automotive Master Technicians and Technicians': 69,\n",
       " 'Quality Control Manager': 69,\n",
       " 'Carpet Cleaning Technician- Company Branch': 69,\n",
       " 'Heavy Equipment Mechanic': 69,\n",
       " 'Residential Lawn Specialist (7300 - DOT)': 69,\n",
       " 'Senior Electrical Engineer': 68,\n",
       " 'Treasury Analyst': 68,\n",
       " 'Electrical Design Engineer': 68,\n",
       " 'Mortgage Closer': 68,\n",
       " 'General Production': 68,\n",
       " 'Information Security Analyst': 68,\n",
       " 'SharePoint Administrator': 68,\n",
       " 'Real Estate Sales Associate / Sales Representative': 68,\n",
       " 'Storage Engineer': 67,\n",
       " 'Physical Therapist Assistant': 67,\n",
       " 'Auditor': 67,\n",
       " 'MAINTENANCE TECHNICIAN': 67,\n",
       " 'Internal Medicine Family Practice Physician': 67,\n",
       " 'Part - Time Opportunities': 67,\n",
       " 'Order Selector': 67,\n",
       " 'Benefits Administrator': 67,\n",
       " 'HIRING CLEANERS ASAP': 67,\n",
       " 'Program Director': 67,\n",
       " 'Administrative Support': 67,\n",
       " 'Carpenter': 67,\n",
       " 'Store Manager Verizon': 67,\n",
       " 'Restaurant Management Opportunities': 67,\n",
       " 'Driver - Team Truck Driver - Sign-On Bonus': 67,\n",
       " 'Accounting': 66,\n",
       " 'Technical Support Engineer': 66,\n",
       " 'Help Desk Support': 66,\n",
       " 'RN, LPN, Nurse, Registered Nurse, Licensed Practical Nurse': 66,\n",
       " 'Industrial Maintenance Technician': 66,\n",
       " 'Site Manager': 66,\n",
       " 'Assemblers': 66,\n",
       " 'STORE MANAGER': 66,\n",
       " 'Pest Control Technician': 66,\n",
       " 'DB2/UDB Developer': 66,\n",
       " 'Field Service Representative': 66,\n",
       " 'Senior Administrative Assistant': 66,\n",
       " 'Warehouse Clerk': 65,\n",
       " 'Inside Sales - Telesales Specialist – Customer Service': 65,\n",
       " 'Senior Recruiter': 65,\n",
       " 'Medical Records Clerk': 65,\n",
       " 'Registered Dietitian': 65,\n",
       " 'Transportation Supervisor': 65,\n",
       " 'IT Recruiter': 65,\n",
       " 'Mortgage Loan Officer': 65,\n",
       " 'OCCUPATIONAL THERAPIST': 65,\n",
       " 'Administrative Coordinator': 65,\n",
       " 'Maintenance - Grounds': 65,\n",
       " 'Retail Sales': 65,\n",
       " 'Android Developer': 65,\n",
       " 'PSG Management / Sales Training Program (Entry Level)': 64,\n",
       " 'Maintenance Assistant': 64,\n",
       " 'Manufacturing Manager': 64,\n",
       " 'Tester': 64,\n",
       " 'Foreclosure Specialist': 64,\n",
       " 'Route Sales Representative': 64,\n",
       " 'Senior .Net Developer': 64,\n",
       " 'Production Operator': 64,\n",
       " 'Front End Developer': 64,\n",
       " 'Area Sales Manager': 64,\n",
       " 'Oracle Database Administrator': 64,\n",
       " 'Staff Home Therapy RN': 64,\n",
       " 'Wireless Sales Manager': 64,\n",
       " 'Customer Service Sales Representative': 64,\n",
       " 'Web Application Developer': 64,\n",
       " 'Psychiatrist': 64,\n",
       " 'Driver - OTR Truck Driver - Class A CDL': 64,\n",
       " 'Core Java Developer': 64,\n",
       " 'Customer Service Professional': 63,\n",
       " 'Agency Support Personnel': 63,\n",
       " 'Recruiter Trainee': 63,\n",
       " 'Associate Dentist': 63,\n",
       " 'Teacher': 63,\n",
       " 'Retail Sales Consultant-AT&T Wireless': 63,\n",
       " 'Inventory Taker': 63,\n",
       " 'Sr. Systems Engineer': 63,\n",
       " 'Electrical Controls Engineer': 63,\n",
       " 'Microstrategy Reports Developer': 63,\n",
       " 'Marketing Associate': 63,\n",
       " 'Quality Assurance': 63,\n",
       " 'Part Time Inside Sales Associate': 63,\n",
       " 'UI Developer': 63,\n",
       " 'Marketing Director': 63,\n",
       " 'Citrix Engineer': 63,\n",
       " 'Accounts Payable Manager': 63,\n",
       " 'Diesel Technician': 63,\n",
       " 'SALES REPRESENTATIVE': 62,\n",
       " 'Assistant Store Manager - Casual Male': 62,\n",
       " 'Credit Manager': 62,\n",
       " 'Journeyman and Apprentice Electricians': 62,\n",
       " 'Inside Sales Associate': 62,\n",
       " 'Electrical Assembler': 62,\n",
       " 'Career Opportunity': 62,\n",
       " 'Facilities Manager': 62,\n",
       " 'Plant Engineer': 62,\n",
       " 'Telemarketer': 62,\n",
       " 'Mechanical Assembly': 62,\n",
       " 'Technical Support Analyst': 62,\n",
       " 'Training Specialist': 62,\n",
       " 'WAREHOUSE ASSOCIATE NEEDED IN WAUWATOSA, WI-': 61,\n",
       " 'Recruiting Manager': 61,\n",
       " 'School Bus Driver': 61,\n",
       " 'Mechanical Drafter': 61,\n",
       " 'Quality Control Supervisor': 61,\n",
       " 'QC Inspector': 61,\n",
       " 'Activities Assistant': 61,\n",
       " 'Senior IT Auditor': 61,\n",
       " 'Independent Distributor/Route Owner': 61,\n",
       " 'Robert Half Finance & Accounting Recruiting Manager': 61,\n",
       " 'Operations Analyst': 61,\n",
       " 'Technical Analyst': 61,\n",
       " 'Server': 60,\n",
       " 'Cisco Network Engineer': 60,\n",
       " 'Legal Administrative Assistant': 60,\n",
       " 'Environmental Engineer': 60,\n",
       " 'Automotive Sales Manager': 60,\n",
       " 'Production Technician': 60,\n",
       " 'Certified Occupational Therapy Asst. - Full Time Job': 60,\n",
       " 'Satellite TV Technician': 60,\n",
       " 'HRIS Analyst': 60,\n",
       " 'TIG Welder': 60,\n",
       " 'Business Development Representative': 60,\n",
       " 'Retail General Manager': 60,\n",
       " 'Tax Analyst': 60,\n",
       " 'Linux Systems Administrator': 60,\n",
       " 'Biomedical Technician I': 60,\n",
       " 'Logistics Manager': 60,\n",
       " 'Editor': 59,\n",
       " 'Tool and Die Maker': 59,\n",
       " 'Product Development Engineer': 59,\n",
       " 'Consulting & Small Business Development': 59,\n",
       " 'Aircraft Avionics Technician': 59,\n",
       " 'Insurance Sales Consultant in Training-Associate Insurance Agent': 59,\n",
       " 'Senior Web Developer': 59,\n",
       " 'Management': 59,\n",
       " 'Sales Representative / Customer Service / Account Manager': 59,\n",
       " 'Occupational Therapist - Full Time Job': 59,\n",
       " 'HVAC Service Technician': 59,\n",
       " 'Java/J2EE Developer': 59,\n",
       " 'Software Development Engineer': 59,\n",
       " 'Construction': 59,\n",
       " 'Planner': 58,\n",
       " '$$$ Branch Sales Professional-Benefits + Training Provided! $$$': 58,\n",
       " 'Caregiver': 58,\n",
       " 'Buyer/Planner': 58,\n",
       " 'Service Representative': 58,\n",
       " 'Certified Medical Assistant': 58,\n",
       " 'Direct Support Professional': 58,\n",
       " 'Physician': 58,\n",
       " 'CNC Mill Machinist': 58,\n",
       " 'Business Development Specialist': 58,\n",
       " 'DE Underwriter': 58,\n",
       " 'LAMP Developer': 58,\n",
       " 'Mortgage Loan Closer': 58,\n",
       " 'Nurse': 58,\n",
       " 'Patient Account Representative': 58,\n",
       " 'CNC Lathe Machinist': 58,\n",
       " 'Construction Superintendent': 57,\n",
       " 'Admissions Representative Campus': 57,\n",
       " 'DIRECTOR OF NURSING': 57,\n",
       " 'Physical Therapist - Full Time Job': 57,\n",
       " 'Personal Banker': 57,\n",
       " 'Database Developer': 57,\n",
       " 'C# developer': 57,\n",
       " 'Business Intelligence Developer': 57,\n",
       " 'Local City Driver': 57,\n",
       " 'Healthcare Recruiter / Entry Level Sales Management': 56,\n",
       " 'Call Center': 56,\n",
       " 'Application Support Analyst': 56,\n",
       " 'Account Coordinator': 56,\n",
       " 'Supply Chain Analyst': 56,\n",
       " 'Accounting Associate': 56,\n",
       " 'Class A Driver': 56,\n",
       " 'Enterprise Architect': 56,\n",
       " 'C-12/King Air/Beechcraft A&P Mechanic': 56,\n",
       " 'Project Administrator': 56,\n",
       " 'Licensed Sales Producer': 56,\n",
       " 'Sales Director': 56,\n",
       " 'Branch Sales Professional-Benefits and Training Provided!!': 56,\n",
       " 'Trailer Mechanic': 56,\n",
       " 'Server - Host/Hostess - Line Cook': 56,\n",
       " 'RF Engineer': 56,\n",
       " 'Forklift Operators': 56,\n",
       " 'Retail Manager Needed': 56,\n",
       " 'SQL Server Developer': 56,\n",
       " 'Field Sales Representative': 56,\n",
       " 'Helicopter Airframe Mechanic (MWO)': 55,\n",
       " 'Client Service Representative': 55,\n",
       " 'Retail Sales Manager (Kiosk Manager)': 55,\n",
       " 'Payroll Processor': 55,\n",
       " 'NOC Technician': 55,\n",
       " 'Complex Case Manager (RN)': 55,\n",
       " 'Discharge Planner (RN)': 55,\n",
       " 'Senior Systems Administrator': 55,\n",
       " 'Production Workers': 55,\n",
       " 'Sr. Administrative Assistant': 55,\n",
       " '$$$ Hiring Sales Reps - Earn up to 65K $$$': 55,\n",
       " 'Windows Systems Administrator': 55,\n",
       " 'IT Business Analyst': 55,\n",
       " 'Engineer-Manufacturing': 55,\n",
       " 'Distribution Associate 2': 54,\n",
       " 'Training Coordinator': 54,\n",
       " 'Automotive Sales Professionals': 54,\n",
       " 'Chemical Operator': 54,\n",
       " 'Shipping and Receiving Clerk': 54,\n",
       " 'Neighborhood Sales Representative - 4020': 54,\n",
       " 'Sales Team Leaders': 54,\n",
       " 'PHP Web Developer': 54,\n",
       " 'Piping Designer': 54,\n",
       " 'Network Security Engineer': 54,\n",
       " 'Sales Representatives - Entry Level or Experienced': 54,\n",
       " 'Proposal Manager': 54,\n",
       " 'Firmware Engineer': 54,\n",
       " 'Insurance Sales Producer': 54,\n",
       " 'Financial Aid Officer': 54,\n",
       " 'User Experience Designer': 53,\n",
       " 'Nurses (RN or LPN) for Home Care': 53,\n",
       " 'Computer Networking Instructor - Adjunct': 53,\n",
       " 'Technical Business Analyst': 53,\n",
       " 'Program Coordinator': 53,\n",
       " 'National Account Manager': 53,\n",
       " 'Client Services Coordinator': 53,\n",
       " 'Loan Servicing Specialist': 53,\n",
       " 'Desktop Technician': 53,\n",
       " 'Driver/Messenger Armed': 53,\n",
       " 'Computer Electronics Engineering and Technology - Adjunct': 53,\n",
       " 'Administrative Assistant II': 53,\n",
       " 'ENTRY LEVEL Customer Service and Sales Experience Wanted': 53,\n",
       " 'Inside Sales Specialist': 53,\n",
       " 'Payroll Supervisor': 53,\n",
       " 'Field Technician': 53,\n",
       " 'Wireless Sales Consultant': 53,\n",
       " 'Wireless Sales Associate - Part-Time - Target Mobile': 53,\n",
       " 'Patient Service Representative': 53,\n",
       " 'Clinical Supervisor': 53,\n",
       " 'Custom Protection Officer – Unarmed': 53,\n",
       " 'Clinical Liaison': 53,\n",
       " 'Installation Technician': 52,\n",
       " 'Quality Control': 52,\n",
       " 'Sales Representative – Manager in Training': 52,\n",
       " 'Recruiting Assistant': 52,\n",
       " 'Billing Coordinator': 52,\n",
       " 'Bank Teller': 52,\n",
       " 'Delivery': 52,\n",
       " 'IT Auditor': 52,\n",
       " 'Cost Analyst': 52,\n",
       " 'Ruby on Rails Developer': 52,\n",
       " 'Security Analyst': 51,\n",
       " 'Safety Coordinator': 51,\n",
       " 'UPS OTR Driver -HazMat REQ': 51,\n",
       " 'Physical Therapist Assistant - Full Time Job': 51,\n",
       " 'Contracts Manager': 51,\n",
       " 'Medical Assistant Instructor': 51,\n",
       " 'Loan Processor (Support)': 51,\n",
       " 'CENTER MANAGER AND SERVICE ASSOCIATE': 51,\n",
       " 'CAD Designer': 51,\n",
       " 'Production Assembler': 51,\n",
       " 'Sales Trainee': 51,\n",
       " 'Entry Level, Financial Advisor, Insurance, Sales,Management': 51,\n",
       " 'Store Manager - Automotive - Sales': 51,\n",
       " 'Inside Sales Professional': 51,\n",
       " 'Automotive Technician / Automotive Mechanic / Entry Level Tech': 51,\n",
       " \"Interior Specialist | Sales Associate's\": 51,\n",
       " 'Social Services Director': 51,\n",
       " 'Sales Representative / Automotive Sales / Entry Level': 51,\n",
       " 'Lawn Specialist': 50,\n",
       " 'Bilingual Customer Service Rep': 50,\n",
       " 'Medical Collections Specialist': 50,\n",
       " 'Outside B2B Sales': 50,\n",
       " 'Internal Audit Manager': 50,\n",
       " 'Nursing Instructor': 50,\n",
       " 'Security Officer / Guard F/T': 50,\n",
       " 'Medical Administrative Assistant': 50,\n",
       " 'Sales - Outside Sales': 50,\n",
       " 'Salon Manager - be part of something BEAUTIFUL!': 50,\n",
       " 'Linux Engineer': 50,\n",
       " 'Grinder': 50,\n",
       " 'Litigation Legal Secretary': 50,\n",
       " 'Benefits Specialist': 50,\n",
       " 'CDL Delivery Driver': 50,\n",
       " 'Registered Nurse - RN - Critical Care': 50,\n",
       " 'Architect': 50,\n",
       " 'Product Specialist': 50,\n",
       " 'Fleet Manager': 50,\n",
       " 'Counter Sales Representative': 50,\n",
       " 'Software Architect': 49,\n",
       " 'Purchasing Specialist': 49,\n",
       " 'Laborer': 49,\n",
       " 'NURSING DIRECTOR, EMERGENCY': 49,\n",
       " 'Branch Financial Consultant': 49,\n",
       " 'Driver Refuse Collection': 49,\n",
       " 'SENIOR NURSING DIRECTOR, PATIENT CARE SERVICES': 49,\n",
       " 'Sales Associates': 49,\n",
       " '*Excellent Benefits* Residential  Driver': 49,\n",
       " 'Truck Mechanic': 49,\n",
       " 'General Manager - Food': 49,\n",
       " 'DIRECT SALES POSITION!': 49,\n",
       " 'Finance Director': 49,\n",
       " 'Strategic Account Manager': 49,\n",
       " 'Fixed Asset Accountant': 49,\n",
       " 'Pet Care Assistant': 49,\n",
       " 'Sales Associate - Sales Representative': 49,\n",
       " 'Press Brake Operator': 49,\n",
       " 'Mortgage Loan Originator': 49,\n",
       " 'NURSE MANAGER, MEDICAL/SURGICAL 3 WEST': 49,\n",
       " 'Sales Analyst': 49,\n",
       " 'QA Technician': 49,\n",
       " 'Entry Level Sales - Sales Representative': 49,\n",
       " 'Service Technician - Heavy Equipment': 48,\n",
       " 'Document Control Specialist': 48,\n",
       " 'RN / Registered Nurse': 48,\n",
       " 'Outside Sales – Digital and print advertising sales': 48,\n",
       " 'Pool Monitor': 48,\n",
       " 'Cost Accounting Manager': 48,\n",
       " ...}"
      ]
     },
     "execution_count": 44,
     "metadata": {},
     "output_type": "execute_result"
    }
   ],
   "source": [
    "tmp = jobs['Title'].value_counts()\n",
    "tmp = dict(tmp)\n",
    "tmp"
   ]
  },
  {
   "cell_type": "code",
   "execution_count": 50,
   "id": "6175eee5",
   "metadata": {
    "scrolled": true
   },
   "outputs": [
    {
     "data": {
      "text/plain": [
       "62"
      ]
     },
     "execution_count": 50,
     "metadata": {},
     "output_type": "execute_result"
    }
   ],
   "source": [
    "min_samples_required = 500\n",
    "samples_to_take = []\n",
    "for k,v in tmp.items():\n",
    "    if v >= min_samples_required:\n",
    "        samples_to_take.append(k)\n",
    "    else:\n",
    "        break\n",
    "len(samples_to_take)"
   ]
  },
  {
   "cell_type": "code",
   "execution_count": 51,
   "id": "5412552e",
   "metadata": {},
   "outputs": [],
   "source": [
    "jobs_cat1 = samples_to_take"
   ]
  },
  {
   "cell_type": "code",
   "execution_count": 52,
   "id": "4efecb42",
   "metadata": {},
   "outputs": [],
   "source": [
    "from sklearn.utils import shuffle\n",
    "\n",
    "df = jobs.loc[jobs['Title'].isin(jobs_cat1)]\n",
    "df = shuffle(df, random_state=66)"
   ]
  },
  {
   "cell_type": "code",
   "execution_count": 58,
   "id": "ad3038e5",
   "metadata": {},
   "outputs": [
    {
     "name": "stdout",
     "output_type": "stream",
     "text": [
      "Number of rows in the dataset with min_samples_for_each_title=500 is 67470\n"
     ]
    }
   ],
   "source": [
    "print(\"Number of rows in the dataset with min_samples_for_each_title={} is {}\".format(min_samples_required, len(df)))"
   ]
  },
  {
   "cell_type": "code",
   "execution_count": 59,
   "id": "aa7490ab",
   "metadata": {},
   "outputs": [],
   "source": [
    "description = np.array(df['Description'])\n",
    "requirements = np.array(df['Requirement'])\n",
    "title = np.array(df['Title'])\n",
    "\n",
    "target = title\n",
    "label_encoder = LabelEncoder()\n",
    "title_encoded = np.array(label_encoder.fit_transform(target))\n",
    "title_encoded[:5], len(title_encoded)\n",
    "\n",
    "training_sentences, testing_sentences, training_labels, testing_labels = train_test_split(description, title_encoded, test_size=0.2)\n",
    "\n",
    "tokenizer = Tokenizer(num_words=vocab_size, oov_token=oov_tok)\n",
    "tokenizer.fit_on_texts(training_sentences)\n",
    "\n",
    "word_index = tokenizer.word_index\n",
    "\n",
    "training_sequences = tokenizer.texts_to_sequences(training_sentences)\n",
    "training_padded = pad_sequences(training_sequences, maxlen=max_length, padding=padding_type, truncating=trunc_type)\n",
    "\n",
    "testing_sequences = tokenizer.texts_to_sequences(testing_sentences)\n",
    "testing_padded = pad_sequences(testing_sequences, maxlen=max_length, padding=padding_type, truncating=trunc_type)\n",
    "\n",
    "training_padded = np.array(training_padded)\n",
    "training_labels = np.array(training_labels)\n",
    "testing_padded = np.array(testing_padded)\n",
    "testing_labels = np.array(testing_labels)"
   ]
  },
  {
   "cell_type": "markdown",
   "id": "1b3fcc78",
   "metadata": {},
   "source": [
    "### Hyperparameter tuning using 1000 random samples"
   ]
  },
  {
   "cell_type": "code",
   "execution_count": 80,
   "id": "4dc61cbb",
   "metadata": {},
   "outputs": [],
   "source": [
    "X_train, X_test = training_padded[:5000], testing_padded[:5000]\n",
    "y_train, y_test = training_labels[:5000], testing_labels[:5000]"
   ]
  },
  {
   "cell_type": "code",
   "execution_count": 72,
   "id": "b5bc0dea",
   "metadata": {},
   "outputs": [],
   "source": [
    "from sklearn.model_selection import RandomizedSearchCV\n",
    "from sklearn.utils.fixes import loguniform\n",
    "\n",
    "svm_param_grid = {'C': loguniform(1e0, 1e3),\n",
    "                 'gamma': loguniform(1e-4, 1e-3),\n",
    "                 'kernel': ['rbf'],\n",
    "                 'class_weight':['balanced', None]}\n",
    "\n",
    "random_forest_param_grid = {'bootstrap': [True, False],\n",
    "                             'max_depth': [10, 20, 30, 40, 50, 60, 70, 80, 90, 100, None],\n",
    "                             'max_features': ['auto', 'sqrt'],\n",
    "                             'min_samples_leaf': [1, 2, 4],\n",
    "                             'min_samples_split': [2, 5, 10],\n",
    "                             'n_estimators': [200, 400, 600, 800, 1000, 1200, 1400, 1600, 1800, 2000]}\n",
    "\n",
    "knn_param_grid = { 'n_neighbors' : [5,7,9,11,13,15],\n",
    "                   'weights' : ['uniform','distance'],\n",
    "                   'metric' : ['minkowski','euclidean','manhattan']}"
   ]
  },
  {
   "cell_type": "code",
   "execution_count": 73,
   "id": "1b5f15b6",
   "metadata": {},
   "outputs": [
    {
     "name": "stdout",
     "output_type": "stream",
     "text": [
      "Fitting 5 folds for each of 36 candidates, totalling 180 fits\n"
     ]
    },
    {
     "name": "stderr",
     "output_type": "stream",
     "text": [
      "/Users/abhishekshinde/Desktop/sample_project/env/lib/python3.6/site-packages/sklearn/model_selection/_search.py:289: UserWarning: The total space of parameters 36 is smaller than n_iter=500. Running 36 iterations. For exhaustive searches, use GridSearchCV.\n",
      "  % (grid_size, self.n_iter, grid_size), UserWarning)\n"
     ]
    },
    {
     "data": {
      "text/plain": [
       "(0.3764, {'weights': 'distance', 'n_neighbors': 5, 'metric': 'manhattan'})"
      ]
     },
     "execution_count": 73,
     "metadata": {},
     "output_type": "execute_result"
    }
   ],
   "source": [
    "from sklearn.neighbors import KNeighborsClassifier\n",
    "\n",
    "knn = KNeighborsClassifier()\n",
    "\n",
    "knn_random = RandomizedSearchCV(estimator = knn, param_distributions = knn_param_grid, n_iter = 500,\n",
    "                                cv = 5, verbose = 2, random_state = 42, n_jobs = -1)\n",
    "knn_random.fit(X_train, y_train)\n",
    "knn_random.best_score_, knn_random.best_params_"
   ]
  },
  {
   "cell_type": "code",
   "execution_count": 74,
   "id": "d431c670",
   "metadata": {},
   "outputs": [
    {
     "name": "stdout",
     "output_type": "stream",
     "text": [
      "Fitting 5 folds for each of 200 candidates, totalling 1000 fits\n"
     ]
    },
    {
     "data": {
      "text/plain": [
       "(0.3616,\n",
       " {'C': 3.3120277014659445,\n",
       "  'class_weight': 'balanced',\n",
       "  'gamma': 0.00018145961353490246,\n",
       "  'kernel': 'rbf'})"
      ]
     },
     "execution_count": 74,
     "metadata": {},
     "output_type": "execute_result"
    }
   ],
   "source": [
    "from sklearn.svm import SVC\n",
    "\n",
    "svm = SVC()\n",
    "svm_random = RandomizedSearchCV(estimator = svm, param_distributions = svm_param_grid, n_iter = 200,\n",
    "                                cv = 5, verbose=2, random_state=42, n_jobs=-1)\n",
    "svm_random.fit(X_train, y_train)\n",
    "svm_random.best_score_, svm_random.best_params_"
   ]
  },
  {
   "cell_type": "code",
   "execution_count": 75,
   "id": "380df3bf",
   "metadata": {},
   "outputs": [],
   "source": [
    "# from sklearn.ensemble import RandomForestClassifier\n",
    "\n",
    "# rf = RandomForestClassifier()\n",
    "# rf_random = RandomizedSearchCV(estimator = rf, param_distributions = random_forest_param_grid, n_iter = 100, \n",
    "#                                cv = 5, verbose=2, random_state=42, n_jobs = -1)\n",
    "# rf_random.fit(X_train, y_train)\n",
    "# rf_random.best_score_, rf_random.best_params_"
   ]
  },
  {
   "cell_type": "code",
   "execution_count": 81,
   "id": "90e55748",
   "metadata": {
    "scrolled": true
   },
   "outputs": [
    {
     "name": "stdout",
     "output_type": "stream",
     "text": [
      "Train on 5000 samples, validate on 5000 samples\n",
      "Epoch 1/20\n",
      "5000/5000 - 2s - loss: 3.9865 - accuracy: 0.0460 - val_loss: 3.6947 - val_accuracy: 0.0548\n",
      "Epoch 2/20\n",
      "5000/5000 - 1s - loss: 3.1801 - accuracy: 0.1036 - val_loss: 2.6854 - val_accuracy: 0.2618\n",
      "Epoch 3/20\n",
      "5000/5000 - 1s - loss: 2.3055 - accuracy: 0.3298 - val_loss: 2.1532 - val_accuracy: 0.3910\n",
      "Epoch 4/20\n",
      "5000/5000 - 2s - loss: 1.8350 - accuracy: 0.4538 - val_loss: 1.8458 - val_accuracy: 0.4470\n",
      "Epoch 5/20\n",
      "5000/5000 - 1s - loss: 1.4926 - accuracy: 0.5370 - val_loss: 1.6719 - val_accuracy: 0.4984\n",
      "Epoch 6/20\n",
      "5000/5000 - 2s - loss: 1.2499 - accuracy: 0.5988 - val_loss: 1.5338 - val_accuracy: 0.5256\n",
      "Epoch 7/20\n",
      "5000/5000 - 2s - loss: 1.0672 - accuracy: 0.6512 - val_loss: 1.4599 - val_accuracy: 0.5648\n",
      "Epoch 8/20\n",
      "5000/5000 - 1s - loss: 0.9240 - accuracy: 0.7060 - val_loss: 1.4135 - val_accuracy: 0.5812\n",
      "Epoch 9/20\n",
      "5000/5000 - 1s - loss: 0.7898 - accuracy: 0.7622 - val_loss: 1.3767 - val_accuracy: 0.6048\n",
      "Epoch 10/20\n",
      "5000/5000 - 1s - loss: 0.6754 - accuracy: 0.8040 - val_loss: 1.3634 - val_accuracy: 0.6096\n",
      "Epoch 11/20\n",
      "5000/5000 - 1s - loss: 0.5780 - accuracy: 0.8334 - val_loss: 1.3330 - val_accuracy: 0.6324\n",
      "Epoch 12/20\n",
      "5000/5000 - 1s - loss: 0.4899 - accuracy: 0.8694 - val_loss: 1.3532 - val_accuracy: 0.6344\n",
      "Epoch 13/20\n",
      "5000/5000 - 2s - loss: 0.4155 - accuracy: 0.8922 - val_loss: 1.3789 - val_accuracy: 0.6448\n",
      "Epoch 14/20\n",
      "5000/5000 - 1s - loss: 0.3552 - accuracy: 0.9114 - val_loss: 1.3685 - val_accuracy: 0.6454\n",
      "Epoch 15/20\n",
      "5000/5000 - 1s - loss: 0.3024 - accuracy: 0.9268 - val_loss: 1.3838 - val_accuracy: 0.6518\n",
      "Epoch 16/20\n",
      "5000/5000 - 1s - loss: 0.2585 - accuracy: 0.9406 - val_loss: 1.4103 - val_accuracy: 0.6518\n",
      "Epoch 17/20\n",
      "5000/5000 - 1s - loss: 0.2217 - accuracy: 0.9510 - val_loss: 1.4531 - val_accuracy: 0.6558\n",
      "Epoch 18/20\n",
      "5000/5000 - 1s - loss: 0.1978 - accuracy: 0.9508 - val_loss: 1.4561 - val_accuracy: 0.6584\n",
      "Epoch 19/20\n",
      "5000/5000 - 1s - loss: 0.1727 - accuracy: 0.9586 - val_loss: 1.4922 - val_accuracy: 0.6530\n",
      "Epoch 20/20\n",
      "5000/5000 - 1s - loss: 0.1569 - accuracy: 0.9596 - val_loss: 1.5071 - val_accuracy: 0.6522\n"
     ]
    }
   ],
   "source": [
    "model = tf.keras.Sequential([\n",
    "    tf.keras.layers.Embedding(vocab_size, embedding_dim, input_length=max_length),\n",
    "    tf.keras.layers.GlobalAveragePooling1D(),\n",
    "    tf.keras.layers.Dense(128, activation='relu'),\n",
    "    tf.keras.layers.Dense(64, activation='relu'),\n",
    "    tf.keras.layers.Dense(len(samples_to_take), activation='sigmoid')\n",
    "])\n",
    "\n",
    "model.compile(loss='sparse_categorical_crossentropy',optimizer='adam',metrics=['accuracy'])\n",
    "num_epochs = 20\n",
    "history = model.fit(X_train, y_train, epochs=num_epochs, validation_data=(X_test, y_test), verbose=2)"
   ]
  },
  {
   "cell_type": "code",
   "execution_count": 82,
   "id": "00231c7e",
   "metadata": {},
   "outputs": [
    {
     "data": {
      "image/png": "[encoded data removed]",
      "text/plain": [
       "<Figure size 432x288 with 1 Axes>"
      ]
     },
     "metadata": {
      "needs_background": "light"
     },
     "output_type": "display_data"
    },
    {
     "data": {
      "image/png": "[encoded data removed]",
      "text/plain": [
       "<Figure size 432x288 with 1 Axes>"
      ]
     },
     "metadata": {
      "needs_background": "light"
     },
     "output_type": "display_data"
    }
   ],
   "source": [
    "import matplotlib.pyplot as plt\n",
    "\n",
    "def plot_graphs(history, string):\n",
    "    plt.plot(history.history[string])\n",
    "    plt.plot(history.history['val_'+string])\n",
    "    plt.xlabel(\"Epochs\")\n",
    "    plt.ylabel(string)\n",
    "    plt.legend([string, 'val_'+string])\n",
    "    plt.show()\n",
    "\n",
    "plot_graphs(history, \"accuracy\")\n",
    "plot_graphs(history, \"loss\")"
   ]
  },
  {
   "cell_type": "markdown",
   "id": "0daac003",
   "metadata": {},
   "source": [
    "## Taking into account all the labels containing 500 or more samples for final dataset"
   ]
  },
  {
   "cell_type": "markdown",
   "id": "3fcd4665",
   "metadata": {},
   "source": [
    "### Function for getting accuracy of model"
   ]
  },
  {
   "cell_type": "code",
   "execution_count": 83,
   "id": "4a2e7249",
   "metadata": {},
   "outputs": [],
   "source": [
    "from sklearn.metrics import accuracy_score\n",
    "\n",
    "def accuracy(model, X_test, y_test):\n",
    "    return accuracy_score(y_test, model.predict(X_test))"
   ]
  },
  {
   "cell_type": "code",
   "execution_count": 84,
   "id": "cddd3ff3",
   "metadata": {},
   "outputs": [],
   "source": [
    "X_train, X_test = training_padded, testing_padded\n",
    "y_train, y_test = training_labels, testing_labels"
   ]
  },
  {
   "cell_type": "markdown",
   "id": "13f6ee98",
   "metadata": {},
   "source": [
    "### KNN"
   ]
  },
  {
   "cell_type": "code",
   "execution_count": null,
   "id": "25f2484a",
   "metadata": {},
   "outputs": [],
   "source": [
    "knn = KNeighborsClassifier(weights= 'distance', n_neighbors= 5, metric= 'manhattan')\n",
    "knn.fit(X_train, y_train)"
   ]
  },
  {
   "cell_type": "code",
   "execution_count": 86,
   "id": "1e75dbe5",
   "metadata": {},
   "outputs": [
    {
     "data": {
      "text/plain": [
       "0.5331999407143916"
      ]
     },
     "execution_count": 86,
     "metadata": {},
     "output_type": "execute_result"
    }
   ],
   "source": [
    "accuracy(knn, X_test, y_test)"
   ]
  },
  {
   "cell_type": "markdown",
   "id": "a13de137",
   "metadata": {},
   "source": [
    "### SVC"
   ]
  },
  {
   "cell_type": "code",
   "execution_count": 88,
   "id": "392291c1",
   "metadata": {},
   "outputs": [
    {
     "data": {
      "text/plain": [
       "0.470801837853861"
      ]
     },
     "execution_count": 88,
     "metadata": {},
     "output_type": "execute_result"
    }
   ],
   "source": [
    "svc = SVC(C=3.3120277014659445, class_weight='balanced', gamma=0.00018145961353490246, kernel='rbf')\n",
    "svc.fit(X_train, y_train)\n",
    "accuracy(svc, X_test, y_test)"
   ]
  },
  {
   "cell_type": "markdown",
   "id": "220716e1",
   "metadata": {},
   "source": [
    "### ANN"
   ]
  },
  {
   "cell_type": "code",
   "execution_count": 91,
   "id": "5431cccb",
   "metadata": {},
   "outputs": [
    {
     "name": "stdout",
     "output_type": "stream",
     "text": [
      "Train on 53976 samples, validate on 13494 samples\n",
      "Epoch 1/10\n",
      "53976/53976 - 13s - loss: 1.9504 - accuracy: 0.4388 - val_loss: 1.0674 - val_accuracy: 0.6661\n",
      "Epoch 2/10\n",
      "53976/53976 - 12s - loss: 0.8460 - accuracy: 0.7408 - val_loss: 0.7750 - val_accuracy: 0.7638\n",
      "Epoch 3/10\n",
      "53976/53976 - 12s - loss: 0.6309 - accuracy: 0.8088 - val_loss: 0.6792 - val_accuracy: 0.8013\n",
      "Epoch 4/10\n",
      "53976/53976 - 12s - loss: 0.5243 - accuracy: 0.8410 - val_loss: 0.6340 - val_accuracy: 0.8180\n",
      "Epoch 5/10\n",
      "53976/53976 - 12s - loss: 0.4515 - accuracy: 0.8618 - val_loss: 0.6338 - val_accuracy: 0.8204\n",
      "Epoch 6/10\n",
      "53976/53976 - 12s - loss: 0.3998 - accuracy: 0.8750 - val_loss: 0.6217 - val_accuracy: 0.8263\n",
      "Epoch 7/10\n",
      "53976/53976 - 13s - loss: 0.3600 - accuracy: 0.8870 - val_loss: 0.6382 - val_accuracy: 0.8286\n",
      "Epoch 8/10\n",
      "53976/53976 - 12s - loss: 0.3285 - accuracy: 0.8964 - val_loss: 0.6318 - val_accuracy: 0.8347\n",
      "Epoch 9/10\n",
      "53976/53976 - 12s - loss: 0.3008 - accuracy: 0.9042 - val_loss: 0.6628 - val_accuracy: 0.8308\n",
      "Epoch 10/10\n",
      "53976/53976 - 12s - loss: 0.2797 - accuracy: 0.9107 - val_loss: 0.6816 - val_accuracy: 0.8271\n"
     ]
    }
   ],
   "source": [
    "model = tf.keras.Sequential([\n",
    "    tf.keras.layers.Embedding(vocab_size, embedding_dim, input_length=max_length),\n",
    "    tf.keras.layers.GlobalAveragePooling1D(),\n",
    "    tf.keras.layers.Dense(128, activation='relu'),\n",
    "    tf.keras.layers.Dense(64, activation='relu'),\n",
    "    tf.keras.layers.Dense(len(samples_to_take), activation='sigmoid')\n",
    "])\n",
    "\n",
    "model.compile(loss='sparse_categorical_crossentropy',optimizer='adam',metrics=['accuracy'])\n",
    "num_epochs = 10\n",
    "history = model.fit(X_train, y_train, epochs=num_epochs, validation_data=(X_test, y_test), verbose=2)"
   ]
  },
  {
   "cell_type": "code",
   "execution_count": 92,
   "id": "28f6ac8e",
   "metadata": {},
   "outputs": [
    {
     "data": {
      "image/png": "[encoded data removed]",
      "text/plain": [
       "<Figure size 432x288 with 1 Axes>"
      ]
     },
     "metadata": {
      "needs_background": "light"
     },
     "output_type": "display_data"
    },
    {
     "data": {
      "image/png": "[encoded data removed]",
      "text/plain": [
       "<Figure size 432x288 with 1 Axes>"
      ]
     },
     "metadata": {
      "needs_background": "light"
     },
     "output_type": "display_data"
    }
   ],
   "source": [
    "plot_graphs(history, \"accuracy\")\n",
    "plot_graphs(history, \"loss\")"
   ]
  },
  {
   "cell_type": "markdown",
   "id": "821d4bff",
   "metadata": {},
   "source": [
    "## Training on 101 labels (min_samples = 360)"
   ]
  },
  {
   "cell_type": "code",
   "execution_count": 99,
   "id": "4633f766",
   "metadata": {},
   "outputs": [
    {
     "data": {
      "text/plain": [
       "101"
      ]
     },
     "execution_count": 99,
     "metadata": {},
     "output_type": "execute_result"
    }
   ],
   "source": [
    "min_samples_required = 360\n",
    "samples_to_take = []\n",
    "for k,v in tmp.items():\n",
    "    if v >= min_samples_required:\n",
    "        samples_to_take.append(k)\n",
    "    else:\n",
    "        break\n",
    "len(samples_to_take)"
   ]
  },
  {
   "cell_type": "code",
   "execution_count": 104,
   "id": "8fe30815",
   "metadata": {},
   "outputs": [],
   "source": [
    "min_samples_required = 360\n",
    "samples_to_take = []\n",
    "for k,v in tmp.items():\n",
    "    if v >= min_samples_required:\n",
    "        samples_to_take.append(k)\n",
    "    else:\n",
    "        break\n",
    "\n",
    "df = jobs.loc[jobs['Title'].isin(samples_to_take)]\n",
    "df = shuffle(df, random_state=66)\n",
    "\n",
    "description = np.array(df['Description'])\n",
    "requirements = np.array(df['Requirement'])\n",
    "title = np.array(df['Title'])\n",
    "\n",
    "target = title\n",
    "label_encoder = LabelEncoder()\n",
    "title_encoded = np.array(label_encoder.fit_transform(target))\n",
    "title_encoded[:5], len(title_encoded)\n",
    "\n",
    "training_sentences, testing_sentences, training_labels, testing_labels = train_test_split(description, title_encoded, test_size=0.1)\n",
    "\n",
    "tokenizer = Tokenizer(num_words=vocab_size, oov_token=oov_tok)\n",
    "tokenizer.fit_on_texts(training_sentences)\n",
    "\n",
    "word_index = tokenizer.word_index\n",
    "\n",
    "training_sequences = tokenizer.texts_to_sequences(training_sentences)\n",
    "training_padded = pad_sequences(training_sequences, maxlen=max_length, padding=padding_type, truncating=trunc_type)\n",
    "\n",
    "testing_sequences = tokenizer.texts_to_sequences(testing_sentences)\n",
    "testing_padded = pad_sequences(testing_sequences, maxlen=max_length, padding=padding_type, truncating=trunc_type)\n",
    "\n",
    "training_padded = np.array(training_padded)\n",
    "training_labels = np.array(training_labels)\n",
    "testing_padded = np.array(testing_padded)\n",
    "testing_labels = np.array(testing_labels)\n",
    "\n",
    "X_train, X_test = training_padded, testing_padded\n",
    "y_train, y_test = training_labels, testing_labels"
   ]
  },
  {
   "cell_type": "code",
   "execution_count": 105,
   "id": "8c968fdf",
   "metadata": {},
   "outputs": [
    {
     "data": {
      "text/plain": [
       "((75632, 100), (8404, 100), (75632,), (8404,))"
      ]
     },
     "execution_count": 105,
     "metadata": {},
     "output_type": "execute_result"
    }
   ],
   "source": [
    "X_train.shape, X_test.shape, y_train.shape, y_test.shape"
   ]
  },
  {
   "cell_type": "markdown",
   "id": "ed9b1621",
   "metadata": {},
   "source": [
    "## ANN"
   ]
  },
  {
   "cell_type": "code",
   "execution_count": 106,
   "id": "3011602c",
   "metadata": {},
   "outputs": [
    {
     "name": "stdout",
     "output_type": "stream",
     "text": [
      "Train on 75632 samples, validate on 8404 samples\n",
      "Epoch 1/10\n",
      "75632/75632 - 19s - loss: 2.6179 - accuracy: 0.2819 - val_loss: 1.6454 - val_accuracy: 0.5120\n",
      "Epoch 2/10\n",
      "75632/75632 - 18s - loss: 1.3638 - accuracy: 0.5868 - val_loss: 1.2631 - val_accuracy: 0.6224\n",
      "Epoch 3/10\n",
      "75632/75632 - 18s - loss: 1.0523 - accuracy: 0.6860 - val_loss: 1.0865 - val_accuracy: 0.6891\n",
      "Epoch 4/10\n",
      "75632/75632 - 18s - loss: 0.8655 - accuracy: 0.7426 - val_loss: 0.9798 - val_accuracy: 0.7207\n",
      "Epoch 5/10\n",
      "75632/75632 - 18s - loss: 0.7438 - accuracy: 0.7758 - val_loss: 0.9289 - val_accuracy: 0.7412\n",
      "Epoch 6/10\n",
      "75632/75632 - 18s - loss: 0.6629 - accuracy: 0.7991 - val_loss: 0.8752 - val_accuracy: 0.7574\n",
      "Epoch 7/10\n",
      "75632/75632 - 18s - loss: 0.6017 - accuracy: 0.8165 - val_loss: 0.8913 - val_accuracy: 0.7584\n",
      "Epoch 8/10\n",
      "75632/75632 - 18s - loss: 0.5541 - accuracy: 0.8290 - val_loss: 0.8648 - val_accuracy: 0.7658\n",
      "Epoch 9/10\n",
      "75632/75632 - 18s - loss: 0.5140 - accuracy: 0.8405 - val_loss: 0.8727 - val_accuracy: 0.7670\n",
      "Epoch 10/10\n",
      "75632/75632 - 18s - loss: 0.4799 - accuracy: 0.8515 - val_loss: 0.8750 - val_accuracy: 0.7748\n"
     ]
    }
   ],
   "source": [
    "model = tf.keras.Sequential([\n",
    "    tf.keras.layers.Embedding(vocab_size, embedding_dim, input_length=max_length),\n",
    "    tf.keras.layers.GlobalAveragePooling1D(),\n",
    "    tf.keras.layers.Dense(128, activation='relu'),\n",
    "    tf.keras.layers.Dense(64, activation='relu'),\n",
    "    tf.keras.layers.Dense(len(samples_to_take), activation='sigmoid')\n",
    "])\n",
    "\n",
    "model.compile(loss='sparse_categorical_crossentropy',optimizer='adam',metrics=['accuracy'])\n",
    "num_epochs = 10\n",
    "history = model.fit(X_train, y_train, epochs=num_epochs, validation_data=(X_test, y_test), verbose=2)"
   ]
  },
  {
   "cell_type": "code",
   "execution_count": 107,
   "id": "8ada967f",
   "metadata": {},
   "outputs": [
    {
     "data": {
      "text/plain": [
       "101"
      ]
     },
     "execution_count": 107,
     "metadata": {},
     "output_type": "execute_result"
    }
   ],
   "source": [
    "len(samples_to_take)"
   ]
  },
  {
   "cell_type": "code",
   "execution_count": 108,
   "id": "29d276b4",
   "metadata": {},
   "outputs": [
    {
     "data": {
      "image/png": "[encoded data removed]",
      "text/plain": [
       "<Figure size 432x288 with 1 Axes>"
      ]
     },
     "metadata": {
      "needs_background": "light"
     },
     "output_type": "display_data"
    },
    {
     "data": {
      "image/png": "[encoded data removed]",
      "text/plain": [
       "<Figure size 432x288 with 1 Axes>"
      ]
     },
     "metadata": {
      "needs_background": "light"
     },
     "output_type": "display_data"
    }
   ],
   "source": [
    "plot_graphs(history, \"accuracy\")\n",
    "plot_graphs(history, \"loss\")"
   ]
  },
  {
   "cell_type": "code",
   "execution_count": null,
   "id": "8f29dc1a",
   "metadata": {},
   "outputs": [],
   "source": []
  }
 ],
 "metadata": {
  "kernelspec": {
   "display_name": "Python 3",
   "language": "python",
   "name": "python3"
  },
  "language_info": {
   "codemirror_mode": {
    "name": "ipython",
    "version": 3
   },
   "file_extension": ".py",
   "mimetype": "text/x-python",
   "name": "python",
   "nbconvert_exporter": "python",
   "pygments_lexer": "ipython3",
   "version": "3.6.13"
  }
 },
 "nbformat": 4,
 "nbformat_minor": 5
}
